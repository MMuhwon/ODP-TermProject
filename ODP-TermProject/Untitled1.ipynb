{
  "nbformat": 4,
  "nbformat_minor": 0,
  "metadata": {
    "colab": {
      "name": "Untitled0.ipynb",
      "provenance": [],
      "collapsed_sections": []
    },
    "kernelspec": {
      "name": "python3",
      "display_name": "Python 3"
    },
    "language_info": {
      "name": "python"
    },
    "accelerator": "GPU"
  },
  "cells": [
    {
      "cell_type": "code",
      "execution_count": null,
      "metadata": {
        "id": "pKo3cLgjPfS4"
      },
      "outputs": [],
      "source": [
        "pip list"
      ]
    },
    {
      "cell_type": "code",
      "source": [
        "from google.colab import drive\n",
        "drive.mount('/content/drive')"
      ],
      "metadata": {
        "colab": {
          "base_uri": "https://localhost:8080/"
        },
        "id": "UNgTEYCCQS9Q",
        "outputId": "26701b69-68b1-4c04-9148-3e2100e69cf2"
      },
      "execution_count": 1,
      "outputs": [
        {
          "output_type": "stream",
          "name": "stdout",
          "text": [
            "Drive already mounted at /content/drive; to attempt to forcibly remount, call drive.mount(\"/content/drive\", force_remount=True).\n"
          ]
        }
      ]
    },
    {
      "cell_type": "code",
      "source": [
        "%cd /content/drive/MyDrive/Final_Project"
      ],
      "metadata": {
        "colab": {
          "base_uri": "https://localhost:8080/"
        },
        "id": "xz94RYGYQWvK",
        "outputId": "a2a7b334-321c-42ce-d9ed-94f9d5cf8583"
      },
      "execution_count": 2,
      "outputs": [
        {
          "output_type": "stream",
          "name": "stdout",
          "text": [
            "/content/drive/MyDrive/Final_Project\n"
          ]
        }
      ]
    },
    {
      "cell_type": "code",
      "source": [
        "import matplotlib.pyplot as plt\n",
        "import platform\n",
        "\n",
        "plt.rc('font', family='NanumBarunGothic')\n",
        "plt.rc('axes', unicode_minus=False) \n",
        "%config InlineBackend.figure_format='retina' \n"
      ],
      "metadata": {
        "id": "aqICWu4GlI-B"
      },
      "execution_count": 3,
      "outputs": []
    },
    {
      "cell_type": "code",
      "source": [
        "import pandas as pd\n",
        "\n",
        "\n",
        "df3 = pd.read_csv(\"/content/drive/MyDrive/Final_Project/공공자전거 이용정보(시간대별)_21.03.csv\")\n",
        "df4 = pd.read_csv(\"/content/drive/MyDrive/Final_Project/공공자전거 이용정보(시간대별)_21.04.csv\")\n",
        "df5 = pd.read_csv(\"/content/drive/MyDrive/Final_Project/공공자전거 이용정보(시간대별)_21.05.csv\")\n"
      ],
      "metadata": {
        "id": "Mlt4A8akQpgH"
      },
      "execution_count": 4,
      "outputs": []
    },
    {
      "cell_type": "code",
      "source": [
        "df4.head()"
      ],
      "metadata": {
        "colab": {
          "base_uri": "https://localhost:8080/",
          "height": 206
        },
        "id": "gSto59f2RFgx",
        "outputId": "d0a01e00-974c-4864-c390-d07f563aae91"
      },
      "execution_count": 5,
      "outputs": [
        {
          "output_type": "execute_result",
          "data": {
            "text/html": [
              "<div>\n",
              "<style scoped>\n",
              "    .dataframe tbody tr th:only-of-type {\n",
              "        vertical-align: middle;\n",
              "    }\n",
              "\n",
              "    .dataframe tbody tr th {\n",
              "        vertical-align: top;\n",
              "    }\n",
              "\n",
              "    .dataframe thead th {\n",
              "        text-align: right;\n",
              "    }\n",
              "</style>\n",
              "<table border=\"1\" class=\"dataframe\">\n",
              "  <thead>\n",
              "    <tr style=\"text-align: right;\">\n",
              "      <th></th>\n",
              "      <th>대여일자</th>\n",
              "      <th>대여시간</th>\n",
              "      <th>대여소번호</th>\n",
              "      <th>대여소명</th>\n",
              "      <th>대여구분코드</th>\n",
              "      <th>성별</th>\n",
              "      <th>연령대코드</th>\n",
              "      <th>이용건수</th>\n",
              "      <th>운동량</th>\n",
              "      <th>탄소량</th>\n",
              "      <th>이동거리</th>\n",
              "      <th>사용시간</th>\n",
              "    </tr>\n",
              "  </thead>\n",
              "  <tbody>\n",
              "    <tr>\n",
              "      <th>0</th>\n",
              "      <td>2021-04-01</td>\n",
              "      <td>0</td>\n",
              "      <td>956</td>\n",
              "      <td>956. 응암시장교차로</td>\n",
              "      <td>정기권</td>\n",
              "      <td>NaN</td>\n",
              "      <td>~10대</td>\n",
              "      <td>1</td>\n",
              "      <td>103.55</td>\n",
              "      <td>1.24</td>\n",
              "      <td>5336.47</td>\n",
              "      <td>34</td>\n",
              "    </tr>\n",
              "    <tr>\n",
              "      <th>1</th>\n",
              "      <td>2021-04-01</td>\n",
              "      <td>0</td>\n",
              "      <td>3426</td>\n",
              "      <td>3426.독립문역 2번출구 뒤</td>\n",
              "      <td>정기권</td>\n",
              "      <td>NaN</td>\n",
              "      <td>~10대</td>\n",
              "      <td>1</td>\n",
              "      <td>66.70</td>\n",
              "      <td>0.65</td>\n",
              "      <td>2807.33</td>\n",
              "      <td>17</td>\n",
              "    </tr>\n",
              "    <tr>\n",
              "      <th>2</th>\n",
              "      <td>2021-04-01</td>\n",
              "      <td>0</td>\n",
              "      <td>1074</td>\n",
              "      <td>1074.대명초교입구 사거리</td>\n",
              "      <td>정기권</td>\n",
              "      <td>NaN</td>\n",
              "      <td>~10대</td>\n",
              "      <td>1</td>\n",
              "      <td>20.31</td>\n",
              "      <td>0.21</td>\n",
              "      <td>900.00</td>\n",
              "      <td>5</td>\n",
              "    </tr>\n",
              "    <tr>\n",
              "      <th>3</th>\n",
              "      <td>2021-04-01</td>\n",
              "      <td>0</td>\n",
              "      <td>2524</td>\n",
              "      <td>2524.반포쇼핑타운 8동 앞</td>\n",
              "      <td>정기권</td>\n",
              "      <td>NaN</td>\n",
              "      <td>~10대</td>\n",
              "      <td>1</td>\n",
              "      <td>0.00</td>\n",
              "      <td>0.00</td>\n",
              "      <td>0.00</td>\n",
              "      <td>4</td>\n",
              "    </tr>\n",
              "    <tr>\n",
              "      <th>4</th>\n",
              "      <td>2021-04-01</td>\n",
              "      <td>0</td>\n",
              "      <td>2817</td>\n",
              "      <td>2817.천왕이펜하우스5단지 앞</td>\n",
              "      <td>정기권</td>\n",
              "      <td>NaN</td>\n",
              "      <td>~10대</td>\n",
              "      <td>1</td>\n",
              "      <td>16.75</td>\n",
              "      <td>0.13</td>\n",
              "      <td>542.30</td>\n",
              "      <td>3</td>\n",
              "    </tr>\n",
              "  </tbody>\n",
              "</table>\n",
              "</div>"
            ],
            "text/plain": [
              "         대여일자  대여시간  대여소번호               대여소명  ...     운동량   탄소량     이동거리  사용시간\n",
              "0  2021-04-01     0    956       956. 응암시장교차로  ...  103.55  1.24  5336.47    34\n",
              "1  2021-04-01     0   3426   3426.독립문역 2번출구 뒤  ...   66.70  0.65  2807.33    17\n",
              "2  2021-04-01     0   1074    1074.대명초교입구 사거리  ...   20.31  0.21   900.00     5\n",
              "3  2021-04-01     0   2524   2524.반포쇼핑타운 8동 앞  ...    0.00  0.00     0.00     4\n",
              "4  2021-04-01     0   2817  2817.천왕이펜하우스5단지 앞  ...   16.75  0.13   542.30     3\n",
              "\n",
              "[5 rows x 12 columns]"
            ]
          },
          "metadata": {},
          "execution_count": 5
        }
      ]
    },
    {
      "cell_type": "code",
      "source": [
        "df5.tail()"
      ],
      "metadata": {
        "colab": {
          "base_uri": "https://localhost:8080/",
          "height": 206
        },
        "id": "BW5V9wlOi82s",
        "outputId": "a68a614a-12c5-4b05-fba6-ddbc9825c8c7"
      },
      "execution_count": 6,
      "outputs": [
        {
          "output_type": "execute_result",
          "data": {
            "text/html": [
              "<div>\n",
              "<style scoped>\n",
              "    .dataframe tbody tr th:only-of-type {\n",
              "        vertical-align: middle;\n",
              "    }\n",
              "\n",
              "    .dataframe tbody tr th {\n",
              "        vertical-align: top;\n",
              "    }\n",
              "\n",
              "    .dataframe thead th {\n",
              "        text-align: right;\n",
              "    }\n",
              "</style>\n",
              "<table border=\"1\" class=\"dataframe\">\n",
              "  <thead>\n",
              "    <tr style=\"text-align: right;\">\n",
              "      <th></th>\n",
              "      <th>대여일자</th>\n",
              "      <th>대여시간</th>\n",
              "      <th>대여소번호</th>\n",
              "      <th>대여소명</th>\n",
              "      <th>대여구분코드</th>\n",
              "      <th>성별</th>\n",
              "      <th>연령대코드</th>\n",
              "      <th>이용건수</th>\n",
              "      <th>운동량</th>\n",
              "      <th>탄소량</th>\n",
              "      <th>이동거리</th>\n",
              "      <th>사용시간</th>\n",
              "    </tr>\n",
              "  </thead>\n",
              "  <tbody>\n",
              "    <tr>\n",
              "      <th>1048570</th>\n",
              "      <td>2021-05-14</td>\n",
              "      <td>13</td>\n",
              "      <td>2658</td>\n",
              "      <td>2658.가락몰 업무동</td>\n",
              "      <td>정기권</td>\n",
              "      <td>NaN</td>\n",
              "      <td>30대</td>\n",
              "      <td>1</td>\n",
              "      <td>50.01</td>\n",
              "      <td>0.45</td>\n",
              "      <td>1942.90</td>\n",
              "      <td>18</td>\n",
              "    </tr>\n",
              "    <tr>\n",
              "      <th>1048571</th>\n",
              "      <td>2021-05-14</td>\n",
              "      <td>13</td>\n",
              "      <td>525</td>\n",
              "      <td>525. 한양대병원사거리</td>\n",
              "      <td>정기권</td>\n",
              "      <td>NaN</td>\n",
              "      <td>30대</td>\n",
              "      <td>1</td>\n",
              "      <td>39.11</td>\n",
              "      <td>0.46</td>\n",
              "      <td>1975.00</td>\n",
              "      <td>14</td>\n",
              "    </tr>\n",
              "    <tr>\n",
              "      <th>1048572</th>\n",
              "      <td>2021-05-14</td>\n",
              "      <td>13</td>\n",
              "      <td>3904</td>\n",
              "      <td>3904. 테크노마트 앞</td>\n",
              "      <td>정기권</td>\n",
              "      <td>NaN</td>\n",
              "      <td>30대</td>\n",
              "      <td>1</td>\n",
              "      <td>15.27</td>\n",
              "      <td>0.12</td>\n",
              "      <td>514.02</td>\n",
              "      <td>5</td>\n",
              "    </tr>\n",
              "    <tr>\n",
              "      <th>1048573</th>\n",
              "      <td>2021-05-14</td>\n",
              "      <td>13</td>\n",
              "      <td>3602</td>\n",
              "      <td>3602. 한국지역난방공사강남지사</td>\n",
              "      <td>정기권</td>\n",
              "      <td>NaN</td>\n",
              "      <td>30대</td>\n",
              "      <td>1</td>\n",
              "      <td>119.91</td>\n",
              "      <td>1.33</td>\n",
              "      <td>5713.46</td>\n",
              "      <td>36</td>\n",
              "    </tr>\n",
              "    <tr>\n",
              "      <th>1048574</th>\n",
              "      <td>2021-05-14</td>\n",
              "      <td>13</td>\n",
              "      <td>3753</td>\n",
              "      <td>3753. 공항중학교 버스정류장</td>\n",
              "      <td>정기권</td>\n",
              "      <td>NaN</td>\n",
              "      <td>30대</td>\n",
              "      <td>2</td>\n",
              "      <td>88.69</td>\n",
              "      <td>0.73</td>\n",
              "      <td>3155.14</td>\n",
              "      <td>16</td>\n",
              "    </tr>\n",
              "  </tbody>\n",
              "</table>\n",
              "</div>"
            ],
            "text/plain": [
              "               대여일자  대여시간  대여소번호  ...   탄소량     이동거리 사용시간\n",
              "1048570  2021-05-14    13   2658  ...  0.45  1942.90   18\n",
              "1048571  2021-05-14    13    525  ...  0.46  1975.00   14\n",
              "1048572  2021-05-14    13   3904  ...  0.12   514.02    5\n",
              "1048573  2021-05-14    13   3602  ...  1.33  5713.46   36\n",
              "1048574  2021-05-14    13   3753  ...  0.73  3155.14   16\n",
              "\n",
              "[5 rows x 12 columns]"
            ]
          },
          "metadata": {},
          "execution_count": 6
        }
      ]
    },
    {
      "cell_type": "code",
      "source": [
        "df = pd.concat([df3,df4,df5])"
      ],
      "metadata": {
        "id": "BPdqOHafkh0i"
      },
      "execution_count": 7,
      "outputs": []
    },
    {
      "cell_type": "code",
      "source": [
        "df.shape"
      ],
      "metadata": {
        "colab": {
          "base_uri": "https://localhost:8080/"
        },
        "id": "AI4MhT1rktUT",
        "outputId": "94e563d7-f1fb-494b-f9b5-d9a971282ab4"
      },
      "execution_count": 8,
      "outputs": [
        {
          "output_type": "execute_result",
          "data": {
            "text/plain": [
              "(3145725, 12)"
            ]
          },
          "metadata": {},
          "execution_count": 8
        }
      ]
    },
    {
      "cell_type": "code",
      "source": [
        "df.dropna(how='any', inplace=True)"
      ],
      "metadata": {
        "id": "yl8zdASskure"
      },
      "execution_count": 9,
      "outputs": []
    },
    {
      "cell_type": "code",
      "source": [
        "df.dtypes"
      ],
      "metadata": {
        "colab": {
          "base_uri": "https://localhost:8080/"
        },
        "id": "5it7-eykk-nM",
        "outputId": "80b35c20-2cec-4e8d-f7bd-89f93430f1de"
      },
      "execution_count": 10,
      "outputs": [
        {
          "output_type": "execute_result",
          "data": {
            "text/plain": [
              "대여일자       object\n",
              "대여시간        int64\n",
              "대여소번호       int64\n",
              "대여소명       object\n",
              "대여구분코드     object\n",
              "성별         object\n",
              "연령대코드      object\n",
              "이용건수        int64\n",
              "운동량        object\n",
              "탄소량        object\n",
              "이동거리      float64\n",
              "사용시간      float64\n",
              "dtype: object"
            ]
          },
          "metadata": {},
          "execution_count": 10
        }
      ]
    },
    {
      "cell_type": "code",
      "source": [
        "df['연령대코드'].value_counts()"
      ],
      "metadata": {
        "colab": {
          "base_uri": "https://localhost:8080/"
        },
        "id": "84MbV9EXlCSG",
        "outputId": "d7b5e825-c6d7-4304-b700-5302c07e8b93"
      },
      "execution_count": 11,
      "outputs": [
        {
          "output_type": "execute_result",
          "data": {
            "text/plain": [
              "20대     656616\n",
              "30대     481516\n",
              "40대     305697\n",
              "50대     186190\n",
              "~10대     88563\n",
              "60대      53717\n",
              "70대~      8946\n",
              "Name: 연령대코드, dtype: int64"
            ]
          },
          "metadata": {},
          "execution_count": 11
        }
      ]
    },
    {
      "cell_type": "code",
      "source": [
        "df.drop(df[df['대여구분코드']=='단기권(전기)'].index, inplace=True)\n",
        "df.drop(df[df['대여구분코드']=='일일권(비회원)'].index, inplace=True)"
      ],
      "metadata": {
        "id": "BCtXL0Aimhjw"
      },
      "execution_count": 12,
      "outputs": []
    },
    {
      "cell_type": "code",
      "source": [
        "'''!sudo apt-get install -y fonts-nanum\n",
        "!sudo fc-cache -fv\n",
        "!rm ~/.cache/matplotlib -rf'''\n",
        "\n",
        "age = df.groupby('연령대코드')['이용건수'].sum().sort_values(ascending=False)\n",
        "age.plot(kind='bar', title=\"연령별 공공자전거 이용건수\", rot=0)\n",
        "\n",
        "plt.show"
      ],
      "metadata": {
        "colab": {
          "base_uri": "https://localhost:8080/",
          "height": 315
        },
        "id": "6xQoyauorHNY",
        "outputId": "a8aae45d-cf6a-4e65-8be0-3fb889afb7c9"
      },
      "execution_count": 13,
      "outputs": [
        {
          "output_type": "execute_result",
          "data": {
            "text/plain": [
              "<function matplotlib.pyplot.show>"
            ]
          },
          "metadata": {},
          "execution_count": 13
        },
        {
          "output_type": "display_data",
          "data": {
            "image/png": "[encoded data removed]",
            "text/plain": [
              "<Figure size 432x288 with 1 Axes>"
            ]
          },
          "metadata": {
            "image/png": {
              "width": 391,
              "height": 280
            },
            "needs_background": "light"
          }
        }
      ]
    },
    {
      "cell_type": "code",
      "source": [
        "df_GU = pd.read_csv(\"/content/drive/MyDrive/Final_Project/서울특별시 코로나19 자치구별 확진자 발생동향.csv\", encoding='cp949')"
      ],
      "metadata": {
        "id": "B-fTO74vrKzN"
      },
      "execution_count": 14,
      "outputs": []
    },
    {
      "cell_type": "code",
      "source": [
        "df_SEOUL = pd.read_csv(\"/content/drive/MyDrive/Final_Project/서울특별시 코로나19 확진자 발생동향(3-5월).csv\")"
      ],
      "metadata": {
        "id": "Pzh_NyEBsrJB"
      },
      "execution_count": 15,
      "outputs": []
    },
    {
      "cell_type": "code",
      "source": [
        "df_SEOUL.tail()"
      ],
      "metadata": {
        "colab": {
          "base_uri": "https://localhost:8080/",
          "height": 258
        },
        "id": "STFeJf4os5BO",
        "outputId": "7af680fd-5cd6-4348-dd4d-1d95f0aff144"
      },
      "execution_count": 16,
      "outputs": [
        {
          "output_type": "execute_result",
          "data": {
            "text/html": [
              "<div>\n",
              "<style scoped>\n",
              "    .dataframe tbody tr th:only-of-type {\n",
              "        vertical-align: middle;\n",
              "    }\n",
              "\n",
              "    .dataframe tbody tr th {\n",
              "        vertical-align: top;\n",
              "    }\n",
              "\n",
              "    .dataframe thead th {\n",
              "        text-align: right;\n",
              "    }\n",
              "</style>\n",
              "<table border=\"1\" class=\"dataframe\">\n",
              "  <thead>\n",
              "    <tr style=\"text-align: right;\">\n",
              "      <th></th>\n",
              "      <th>서울시 기준일</th>\n",
              "      <th>서울시 확진자</th>\n",
              "      <th>서울시 추가 확진</th>\n",
              "      <th>서울시 치료중</th>\n",
              "      <th>서울시 퇴원</th>\n",
              "      <th>서울시 추가 퇴원</th>\n",
              "      <th>서울시 사망</th>\n",
              "      <th>서울시 의심환자 전체</th>\n",
              "      <th>서울시 의심환자 검사중</th>\n",
              "      <th>서울시 의심환자 검사결과(음성)</th>\n",
              "      <th>전국 기준일</th>\n",
              "      <th>전국 확진</th>\n",
              "      <th>전국 추가 확진</th>\n",
              "      <th>전국 치료중</th>\n",
              "      <th>전국 퇴원</th>\n",
              "      <th>전국 사망</th>\n",
              "      <th>전국 의심환자 전체</th>\n",
              "      <th>전국 의심환자 검사중</th>\n",
              "      <th>전국 의심환자 검사결과(음성)</th>\n",
              "      <th>자가격리자 해외입국자 감시중</th>\n",
              "      <th>자가격리자 해외입국자 감시해제</th>\n",
              "      <th>자가격리자 접촉자 감시중</th>\n",
              "      <th>자가격리자 접촉자 감시해제</th>\n",
              "      <th>확인중 확진자</th>\n",
              "    </tr>\n",
              "  </thead>\n",
              "  <tbody>\n",
              "    <tr>\n",
              "      <th>88</th>\n",
              "      <td>2021.03.05</td>\n",
              "      <td>28820</td>\n",
              "      <td>129</td>\n",
              "      <td>2883</td>\n",
              "      <td>25546</td>\n",
              "      <td>127</td>\n",
              "      <td>391</td>\n",
              "      <td>NaN</td>\n",
              "      <td>NaN</td>\n",
              "      <td>NaN</td>\n",
              "      <td>2021.03.05.00</td>\n",
              "      <td>91638</td>\n",
              "      <td>398</td>\n",
              "      <td>7451</td>\n",
              "      <td>82560</td>\n",
              "      <td>1627</td>\n",
              "      <td>NaN</td>\n",
              "      <td>NaN</td>\n",
              "      <td>NaN</td>\n",
              "      <td>NaN</td>\n",
              "      <td>NaN</td>\n",
              "      <td>NaN</td>\n",
              "      <td>NaN</td>\n",
              "      <td>0</td>\n",
              "    </tr>\n",
              "    <tr>\n",
              "      <th>89</th>\n",
              "      <td>2021.03.04</td>\n",
              "      <td>28691</td>\n",
              "      <td>118</td>\n",
              "      <td>2884</td>\n",
              "      <td>25419</td>\n",
              "      <td>168</td>\n",
              "      <td>388</td>\n",
              "      <td>NaN</td>\n",
              "      <td>NaN</td>\n",
              "      <td>NaN</td>\n",
              "      <td>2021.03.04.00</td>\n",
              "      <td>91240</td>\n",
              "      <td>424</td>\n",
              "      <td>7459</td>\n",
              "      <td>82162</td>\n",
              "      <td>1619</td>\n",
              "      <td>NaN</td>\n",
              "      <td>NaN</td>\n",
              "      <td>NaN</td>\n",
              "      <td>NaN</td>\n",
              "      <td>NaN</td>\n",
              "      <td>NaN</td>\n",
              "      <td>NaN</td>\n",
              "      <td>0</td>\n",
              "    </tr>\n",
              "    <tr>\n",
              "      <th>90</th>\n",
              "      <td>2021.03.03</td>\n",
              "      <td>28573</td>\n",
              "      <td>119</td>\n",
              "      <td>2937</td>\n",
              "      <td>25251</td>\n",
              "      <td>99</td>\n",
              "      <td>385</td>\n",
              "      <td>NaN</td>\n",
              "      <td>NaN</td>\n",
              "      <td>NaN</td>\n",
              "      <td>2021.03.03.00</td>\n",
              "      <td>90816</td>\n",
              "      <td>444</td>\n",
              "      <td>7504</td>\n",
              "      <td>81700</td>\n",
              "      <td>1612</td>\n",
              "      <td>NaN</td>\n",
              "      <td>NaN</td>\n",
              "      <td>NaN</td>\n",
              "      <td>NaN</td>\n",
              "      <td>NaN</td>\n",
              "      <td>NaN</td>\n",
              "      <td>NaN</td>\n",
              "      <td>0</td>\n",
              "    </tr>\n",
              "    <tr>\n",
              "      <th>91</th>\n",
              "      <td>2021.03.02</td>\n",
              "      <td>28454</td>\n",
              "      <td>122</td>\n",
              "      <td>2921</td>\n",
              "      <td>25152</td>\n",
              "      <td>65</td>\n",
              "      <td>381</td>\n",
              "      <td>NaN</td>\n",
              "      <td>NaN</td>\n",
              "      <td>NaN</td>\n",
              "      <td>2021.03.02.00</td>\n",
              "      <td>90372</td>\n",
              "      <td>344</td>\n",
              "      <td>7428</td>\n",
              "      <td>81338</td>\n",
              "      <td>1606</td>\n",
              "      <td>NaN</td>\n",
              "      <td>NaN</td>\n",
              "      <td>NaN</td>\n",
              "      <td>NaN</td>\n",
              "      <td>NaN</td>\n",
              "      <td>NaN</td>\n",
              "      <td>NaN</td>\n",
              "      <td>0</td>\n",
              "    </tr>\n",
              "    <tr>\n",
              "      <th>92</th>\n",
              "      <td>2021.03.01</td>\n",
              "      <td>28332</td>\n",
              "      <td>92</td>\n",
              "      <td>2864</td>\n",
              "      <td>25087</td>\n",
              "      <td>70</td>\n",
              "      <td>381</td>\n",
              "      <td>NaN</td>\n",
              "      <td>NaN</td>\n",
              "      <td>NaN</td>\n",
              "      <td>2021.03.01.00</td>\n",
              "      <td>90029</td>\n",
              "      <td>355</td>\n",
              "      <td>7354</td>\n",
              "      <td>81070</td>\n",
              "      <td>1605</td>\n",
              "      <td>NaN</td>\n",
              "      <td>NaN</td>\n",
              "      <td>NaN</td>\n",
              "      <td>NaN</td>\n",
              "      <td>NaN</td>\n",
              "      <td>NaN</td>\n",
              "      <td>NaN</td>\n",
              "      <td>0</td>\n",
              "    </tr>\n",
              "  </tbody>\n",
              "</table>\n",
              "</div>"
            ],
            "text/plain": [
              "       서울시 기준일  서울시 확진자  서울시 추가 확진  ...  자가격리자 접촉자 감시중  자가격리자 접촉자 감시해제  확인중 확진자\n",
              "88  2021.03.05    28820        129  ...            NaN             NaN        0\n",
              "89  2021.03.04    28691        118  ...            NaN             NaN        0\n",
              "90  2021.03.03    28573        119  ...            NaN             NaN        0\n",
              "91  2021.03.02    28454        122  ...            NaN             NaN        0\n",
              "92  2021.03.01    28332         92  ...            NaN             NaN        0\n",
              "\n",
              "[5 rows x 24 columns]"
            ]
          },
          "metadata": {},
          "execution_count": 16
        }
      ]
    },
    {
      "cell_type": "code",
      "source": [
        "df_GU.head()"
      ],
      "metadata": {
        "id": "ZqJ4urFCtCvR"
      },
      "execution_count": null,
      "outputs": []
    },
    {
      "cell_type": "code",
      "source": [
        "covid = pd.read_csv('/content/drive/MyDrive/Final_Project/서울특별시 코로나19 확진자 발생동향(3-5월)_2.csv')\n",
        "covid = covid[['서울시 기준일','서울시 확진자','서울시 추가 확진']]\n",
        "\n",
        "covid.tail()"
      ],
      "metadata": {
        "colab": {
          "base_uri": "https://localhost:8080/",
          "height": 206
        },
        "id": "XzrtS-satWWL",
        "outputId": "4c04a006-132a-4e99-dbea-e113876d45f9"
      },
      "execution_count": 17,
      "outputs": [
        {
          "output_type": "execute_result",
          "data": {
            "text/html": [
              "<div>\n",
              "<style scoped>\n",
              "    .dataframe tbody tr th:only-of-type {\n",
              "        vertical-align: middle;\n",
              "    }\n",
              "\n",
              "    .dataframe tbody tr th {\n",
              "        vertical-align: top;\n",
              "    }\n",
              "\n",
              "    .dataframe thead th {\n",
              "        text-align: right;\n",
              "    }\n",
              "</style>\n",
              "<table border=\"1\" class=\"dataframe\">\n",
              "  <thead>\n",
              "    <tr style=\"text-align: right;\">\n",
              "      <th></th>\n",
              "      <th>서울시 기준일</th>\n",
              "      <th>서울시 확진자</th>\n",
              "      <th>서울시 추가 확진</th>\n",
              "    </tr>\n",
              "  </thead>\n",
              "  <tbody>\n",
              "    <tr>\n",
              "      <th>44</th>\n",
              "      <td>2021-03-05</td>\n",
              "      <td>28820</td>\n",
              "      <td>129</td>\n",
              "    </tr>\n",
              "    <tr>\n",
              "      <th>45</th>\n",
              "      <td>2021-03-04</td>\n",
              "      <td>28691</td>\n",
              "      <td>118</td>\n",
              "    </tr>\n",
              "    <tr>\n",
              "      <th>46</th>\n",
              "      <td>2021-03-03</td>\n",
              "      <td>28573</td>\n",
              "      <td>119</td>\n",
              "    </tr>\n",
              "    <tr>\n",
              "      <th>47</th>\n",
              "      <td>2021-03-02</td>\n",
              "      <td>28454</td>\n",
              "      <td>122</td>\n",
              "    </tr>\n",
              "    <tr>\n",
              "      <th>48</th>\n",
              "      <td>2021-03-01</td>\n",
              "      <td>28332</td>\n",
              "      <td>92</td>\n",
              "    </tr>\n",
              "  </tbody>\n",
              "</table>\n",
              "</div>"
            ],
            "text/plain": [
              "       서울시 기준일  서울시 확진자  서울시 추가 확진\n",
              "44  2021-03-05    28820        129\n",
              "45  2021-03-04    28691        118\n",
              "46  2021-03-03    28573        119\n",
              "47  2021-03-02    28454        122\n",
              "48  2021-03-01    28332         92"
            ]
          },
          "metadata": {},
          "execution_count": 17
        }
      ]
    },
    {
      "cell_type": "code",
      "source": [
        "covid['날짜'] = pd.to_datetime(covid['서울시 기준일'])\n",
        "\n",
        "covid.tail()"
      ],
      "metadata": {
        "colab": {
          "base_uri": "https://localhost:8080/",
          "height": 206
        },
        "id": "61K90FOdt4i5",
        "outputId": "02d65bde-95cb-4271-de43-17ef2c7c3c3e"
      },
      "execution_count": 18,
      "outputs": [
        {
          "output_type": "execute_result",
          "data": {
            "text/html": [
              "<div>\n",
              "<style scoped>\n",
              "    .dataframe tbody tr th:only-of-type {\n",
              "        vertical-align: middle;\n",
              "    }\n",
              "\n",
              "    .dataframe tbody tr th {\n",
              "        vertical-align: top;\n",
              "    }\n",
              "\n",
              "    .dataframe thead th {\n",
              "        text-align: right;\n",
              "    }\n",
              "</style>\n",
              "<table border=\"1\" class=\"dataframe\">\n",
              "  <thead>\n",
              "    <tr style=\"text-align: right;\">\n",
              "      <th></th>\n",
              "      <th>서울시 기준일</th>\n",
              "      <th>서울시 확진자</th>\n",
              "      <th>서울시 추가 확진</th>\n",
              "      <th>날짜</th>\n",
              "    </tr>\n",
              "  </thead>\n",
              "  <tbody>\n",
              "    <tr>\n",
              "      <th>44</th>\n",
              "      <td>2021-03-05</td>\n",
              "      <td>28820</td>\n",
              "      <td>129</td>\n",
              "      <td>2021-03-05</td>\n",
              "    </tr>\n",
              "    <tr>\n",
              "      <th>45</th>\n",
              "      <td>2021-03-04</td>\n",
              "      <td>28691</td>\n",
              "      <td>118</td>\n",
              "      <td>2021-03-04</td>\n",
              "    </tr>\n",
              "    <tr>\n",
              "      <th>46</th>\n",
              "      <td>2021-03-03</td>\n",
              "      <td>28573</td>\n",
              "      <td>119</td>\n",
              "      <td>2021-03-03</td>\n",
              "    </tr>\n",
              "    <tr>\n",
              "      <th>47</th>\n",
              "      <td>2021-03-02</td>\n",
              "      <td>28454</td>\n",
              "      <td>122</td>\n",
              "      <td>2021-03-02</td>\n",
              "    </tr>\n",
              "    <tr>\n",
              "      <th>48</th>\n",
              "      <td>2021-03-01</td>\n",
              "      <td>28332</td>\n",
              "      <td>92</td>\n",
              "      <td>2021-03-01</td>\n",
              "    </tr>\n",
              "  </tbody>\n",
              "</table>\n",
              "</div>"
            ],
            "text/plain": [
              "       서울시 기준일  서울시 확진자  서울시 추가 확진         날짜\n",
              "44  2021-03-05    28820        129 2021-03-05\n",
              "45  2021-03-04    28691        118 2021-03-04\n",
              "46  2021-03-03    28573        119 2021-03-03\n",
              "47  2021-03-02    28454        122 2021-03-02\n",
              "48  2021-03-01    28332         92 2021-03-01"
            ]
          },
          "metadata": {},
          "execution_count": 18
        }
      ]
    },
    {
      "cell_type": "code",
      "source": [
        "covid.dtypes"
      ],
      "metadata": {
        "colab": {
          "base_uri": "https://localhost:8080/"
        },
        "id": "5Tq0EhR4t9v2",
        "outputId": "d280d9e8-43b1-4ebe-b4a1-d40befa44449"
      },
      "execution_count": 19,
      "outputs": [
        {
          "output_type": "execute_result",
          "data": {
            "text/plain": [
              "서울시 기준일              object\n",
              "서울시 확진자               int64\n",
              "서울시 추가 확진             int64\n",
              "날짜           datetime64[ns]\n",
              "dtype: object"
            ]
          },
          "metadata": {},
          "execution_count": 19
        }
      ]
    },
    {
      "cell_type": "code",
      "source": [
        "df.dtypes"
      ],
      "metadata": {
        "colab": {
          "base_uri": "https://localhost:8080/"
        },
        "id": "QYyR1SajuDaW",
        "outputId": "23e70a05-d64b-4d4d-e737-e0e3b3e88631"
      },
      "execution_count": 20,
      "outputs": [
        {
          "output_type": "execute_result",
          "data": {
            "text/plain": [
              "대여일자       object\n",
              "대여시간        int64\n",
              "대여소번호       int64\n",
              "대여소명       object\n",
              "대여구분코드     object\n",
              "성별         object\n",
              "연령대코드      object\n",
              "이용건수        int64\n",
              "운동량        object\n",
              "탄소량        object\n",
              "이동거리      float64\n",
              "사용시간      float64\n",
              "dtype: object"
            ]
          },
          "metadata": {},
          "execution_count": 20
        }
      ]
    },
    {
      "cell_type": "code",
      "source": [
        "df['대여일자'] = df['대여일자'].astype('datetime64[ns]')\n",
        "\n",
        "df.dtypes"
      ],
      "metadata": {
        "colab": {
          "base_uri": "https://localhost:8080/"
        },
        "id": "8C-mXa8BziKM",
        "outputId": "0e10f7f4-3db4-4aa4-b50c-2bbd6398aae9"
      },
      "execution_count": 21,
      "outputs": [
        {
          "output_type": "execute_result",
          "data": {
            "text/plain": [
              "대여일자      datetime64[ns]\n",
              "대여시간               int64\n",
              "대여소번호              int64\n",
              "대여소명              object\n",
              "대여구분코드            object\n",
              "성별                object\n",
              "연령대코드             object\n",
              "이용건수               int64\n",
              "운동량               object\n",
              "탄소량               object\n",
              "이동거리             float64\n",
              "사용시간             float64\n",
              "dtype: object"
            ]
          },
          "metadata": {},
          "execution_count": 21
        }
      ]
    },
    {
      "cell_type": "code",
      "source": [
        "df=df.merge(covid, left_on='대여일자', right_on='날짜')\n",
        "\n",
        "df.shape"
      ],
      "metadata": {
        "colab": {
          "base_uri": "https://localhost:8080/"
        },
        "id": "Pkv7xCe5HdbV",
        "outputId": "4bd6cc16-7ca7-4cdc-ae37-161ed0c95ac7"
      },
      "execution_count": 22,
      "outputs": [
        {
          "output_type": "execute_result",
          "data": {
            "text/plain": [
              "(1838590, 16)"
            ]
          },
          "metadata": {},
          "execution_count": 22
        }
      ]
    },
    {
      "cell_type": "code",
      "source": [
        "df"
      ],
      "metadata": {
        "colab": {
          "base_uri": "https://localhost:8080/",
          "height": 423
        },
        "id": "R5uHrySdQBY3",
        "outputId": "d3b85ec8-42c3-4e9b-f209-027af090d6ac"
      },
      "execution_count": 23,
      "outputs": [
        {
          "output_type": "execute_result",
          "data": {
            "text/html": [
              "<div>\n",
              "<style scoped>\n",
              "    .dataframe tbody tr th:only-of-type {\n",
              "        vertical-align: middle;\n",
              "    }\n",
              "\n",
              "    .dataframe tbody tr th {\n",
              "        vertical-align: top;\n",
              "    }\n",
              "\n",
              "    .dataframe thead th {\n",
              "        text-align: right;\n",
              "    }\n",
              "</style>\n",
              "<table border=\"1\" class=\"dataframe\">\n",
              "  <thead>\n",
              "    <tr style=\"text-align: right;\">\n",
              "      <th></th>\n",
              "      <th>대여일자</th>\n",
              "      <th>대여시간</th>\n",
              "      <th>대여소번호</th>\n",
              "      <th>대여소명</th>\n",
              "      <th>대여구분코드</th>\n",
              "      <th>성별</th>\n",
              "      <th>연령대코드</th>\n",
              "      <th>이용건수</th>\n",
              "      <th>운동량</th>\n",
              "      <th>탄소량</th>\n",
              "      <th>이동거리</th>\n",
              "      <th>사용시간</th>\n",
              "      <th>서울시 기준일</th>\n",
              "      <th>서울시 확진자</th>\n",
              "      <th>서울시 추가 확진</th>\n",
              "      <th>날짜</th>\n",
              "    </tr>\n",
              "  </thead>\n",
              "  <tbody>\n",
              "    <tr>\n",
              "      <th>0</th>\n",
              "      <td>2021-03-01</td>\n",
              "      <td>0</td>\n",
              "      <td>1288</td>\n",
              "      <td>1288. 문정중교 사거리</td>\n",
              "      <td>정기권</td>\n",
              "      <td>F</td>\n",
              "      <td>~10대</td>\n",
              "      <td>1</td>\n",
              "      <td>11.94</td>\n",
              "      <td>0.14</td>\n",
              "      <td>615.22</td>\n",
              "      <td>5.0</td>\n",
              "      <td>2021-03-01</td>\n",
              "      <td>28332</td>\n",
              "      <td>92</td>\n",
              "      <td>2021-03-01</td>\n",
              "    </tr>\n",
              "    <tr>\n",
              "      <th>1</th>\n",
              "      <td>2021-03-01</td>\n",
              "      <td>0</td>\n",
              "      <td>2719</td>\n",
              "      <td>2719.마곡문화공원</td>\n",
              "      <td>정기권</td>\n",
              "      <td>F</td>\n",
              "      <td>~10대</td>\n",
              "      <td>1</td>\n",
              "      <td>46.37</td>\n",
              "      <td>0.51</td>\n",
              "      <td>2209.40</td>\n",
              "      <td>17.0</td>\n",
              "      <td>2021-03-01</td>\n",
              "      <td>28332</td>\n",
              "      <td>92</td>\n",
              "      <td>2021-03-01</td>\n",
              "    </tr>\n",
              "    <tr>\n",
              "      <th>2</th>\n",
              "      <td>2021-03-01</td>\n",
              "      <td>0</td>\n",
              "      <td>549</td>\n",
              "      <td>549. 아차산역 3번출구</td>\n",
              "      <td>정기권</td>\n",
              "      <td>F</td>\n",
              "      <td>~10대</td>\n",
              "      <td>1</td>\n",
              "      <td>11.05</td>\n",
              "      <td>0.14</td>\n",
              "      <td>620.36</td>\n",
              "      <td>5.0</td>\n",
              "      <td>2021-03-01</td>\n",
              "      <td>28332</td>\n",
              "      <td>92</td>\n",
              "      <td>2021-03-01</td>\n",
              "    </tr>\n",
              "    <tr>\n",
              "      <th>3</th>\n",
              "      <td>2021-03-01</td>\n",
              "      <td>0</td>\n",
              "      <td>1149</td>\n",
              "      <td>1149. 신방화역환승주차장</td>\n",
              "      <td>정기권</td>\n",
              "      <td>F</td>\n",
              "      <td>~10대</td>\n",
              "      <td>1</td>\n",
              "      <td>38.9</td>\n",
              "      <td>0.44</td>\n",
              "      <td>1889.08</td>\n",
              "      <td>14.0</td>\n",
              "      <td>2021-03-01</td>\n",
              "      <td>28332</td>\n",
              "      <td>92</td>\n",
              "      <td>2021-03-01</td>\n",
              "    </tr>\n",
              "    <tr>\n",
              "      <th>4</th>\n",
              "      <td>2021-03-01</td>\n",
              "      <td>0</td>\n",
              "      <td>1663</td>\n",
              "      <td>1663. 동해문화예술관앞</td>\n",
              "      <td>정기권</td>\n",
              "      <td>F</td>\n",
              "      <td>20대</td>\n",
              "      <td>1</td>\n",
              "      <td>20.28</td>\n",
              "      <td>0.25</td>\n",
              "      <td>1066.91</td>\n",
              "      <td>21.0</td>\n",
              "      <td>2021-03-01</td>\n",
              "      <td>28332</td>\n",
              "      <td>92</td>\n",
              "      <td>2021-03-01</td>\n",
              "    </tr>\n",
              "    <tr>\n",
              "      <th>...</th>\n",
              "      <td>...</td>\n",
              "      <td>...</td>\n",
              "      <td>...</td>\n",
              "      <td>...</td>\n",
              "      <td>...</td>\n",
              "      <td>...</td>\n",
              "      <td>...</td>\n",
              "      <td>...</td>\n",
              "      <td>...</td>\n",
              "      <td>...</td>\n",
              "      <td>...</td>\n",
              "      <td>...</td>\n",
              "      <td>...</td>\n",
              "      <td>...</td>\n",
              "      <td>...</td>\n",
              "      <td>...</td>\n",
              "    </tr>\n",
              "    <tr>\n",
              "      <th>1838585</th>\n",
              "      <td>2021-05-14</td>\n",
              "      <td>12</td>\n",
              "      <td>723</td>\n",
              "      <td>723. SBS방송국</td>\n",
              "      <td>정기권</td>\n",
              "      <td>M</td>\n",
              "      <td>60대</td>\n",
              "      <td>1</td>\n",
              "      <td>92.69</td>\n",
              "      <td>0.84</td>\n",
              "      <td>3600.92</td>\n",
              "      <td>21.0</td>\n",
              "      <td>2021-05-14</td>\n",
              "      <td>40576</td>\n",
              "      <td>231</td>\n",
              "      <td>2021-05-14</td>\n",
              "    </tr>\n",
              "    <tr>\n",
              "      <th>1838586</th>\n",
              "      <td>2021-05-14</td>\n",
              "      <td>12</td>\n",
              "      <td>3518</td>\n",
              "      <td>3518. 군자역 7번출구뒤</td>\n",
              "      <td>정기권</td>\n",
              "      <td>M</td>\n",
              "      <td>70대~</td>\n",
              "      <td>1</td>\n",
              "      <td>8.11</td>\n",
              "      <td>0.08</td>\n",
              "      <td>341.25</td>\n",
              "      <td>6.0</td>\n",
              "      <td>2021-05-14</td>\n",
              "      <td>40576</td>\n",
              "      <td>231</td>\n",
              "      <td>2021-05-14</td>\n",
              "    </tr>\n",
              "    <tr>\n",
              "      <th>1838587</th>\n",
              "      <td>2021-05-14</td>\n",
              "      <td>12</td>\n",
              "      <td>2279</td>\n",
              "      <td>2279. 교대역 5번출구뒤</td>\n",
              "      <td>정기권</td>\n",
              "      <td>M</td>\n",
              "      <td>70대~</td>\n",
              "      <td>1</td>\n",
              "      <td>21.23</td>\n",
              "      <td>0.17</td>\n",
              "      <td>714.78</td>\n",
              "      <td>9.0</td>\n",
              "      <td>2021-05-14</td>\n",
              "      <td>40576</td>\n",
              "      <td>231</td>\n",
              "      <td>2021-05-14</td>\n",
              "    </tr>\n",
              "    <tr>\n",
              "      <th>1838588</th>\n",
              "      <td>2021-05-14</td>\n",
              "      <td>12</td>\n",
              "      <td>1729</td>\n",
              "      <td>1729. 파리바게트앞</td>\n",
              "      <td>정기권</td>\n",
              "      <td>M</td>\n",
              "      <td>70대~</td>\n",
              "      <td>1</td>\n",
              "      <td>19.21</td>\n",
              "      <td>0.15</td>\n",
              "      <td>655.55</td>\n",
              "      <td>4.0</td>\n",
              "      <td>2021-05-14</td>\n",
              "      <td>40576</td>\n",
              "      <td>231</td>\n",
              "      <td>2021-05-14</td>\n",
              "    </tr>\n",
              "    <tr>\n",
              "      <th>1838589</th>\n",
              "      <td>2021-05-14</td>\n",
              "      <td>12</td>\n",
              "      <td>2707</td>\n",
              "      <td>2707.한강아파트</td>\n",
              "      <td>정기권</td>\n",
              "      <td>M</td>\n",
              "      <td>70대~</td>\n",
              "      <td>1</td>\n",
              "      <td>12.77</td>\n",
              "      <td>0.12</td>\n",
              "      <td>496.07</td>\n",
              "      <td>7.0</td>\n",
              "      <td>2021-05-14</td>\n",
              "      <td>40576</td>\n",
              "      <td>231</td>\n",
              "      <td>2021-05-14</td>\n",
              "    </tr>\n",
              "  </tbody>\n",
              "</table>\n",
              "<p>1838590 rows × 16 columns</p>\n",
              "</div>"
            ],
            "text/plain": [
              "              대여일자  대여시간  대여소번호  ... 서울시 확진자 서울시 추가 확진         날짜\n",
              "0       2021-03-01     0   1288  ...   28332        92 2021-03-01\n",
              "1       2021-03-01     0   2719  ...   28332        92 2021-03-01\n",
              "2       2021-03-01     0    549  ...   28332        92 2021-03-01\n",
              "3       2021-03-01     0   1149  ...   28332        92 2021-03-01\n",
              "4       2021-03-01     0   1663  ...   28332        92 2021-03-01\n",
              "...            ...   ...    ...  ...     ...       ...        ...\n",
              "1838585 2021-05-14    12    723  ...   40576       231 2021-05-14\n",
              "1838586 2021-05-14    12   3518  ...   40576       231 2021-05-14\n",
              "1838587 2021-05-14    12   2279  ...   40576       231 2021-05-14\n",
              "1838588 2021-05-14    12   1729  ...   40576       231 2021-05-14\n",
              "1838589 2021-05-14    12   2707  ...   40576       231 2021-05-14\n",
              "\n",
              "[1838590 rows x 16 columns]"
            ]
          },
          "metadata": {},
          "execution_count": 23
        }
      ]
    },
    {
      "cell_type": "code",
      "source": [
        "df.dropna(inplace=True)\n",
        "\n",
        "df.drop(['대여일자','서울시 기준일'],axis=1,inplace=True)\n",
        "df.head()"
      ],
      "metadata": {
        "colab": {
          "base_uri": "https://localhost:8080/",
          "height": 206
        },
        "id": "7dEeTUyaBKm9",
        "outputId": "33c40dfd-af9e-4040-dcc3-5ea6639809dc"
      },
      "execution_count": 24,
      "outputs": [
        {
          "output_type": "execute_result",
          "data": {
            "text/html": [
              "<div>\n",
              "<style scoped>\n",
              "    .dataframe tbody tr th:only-of-type {\n",
              "        vertical-align: middle;\n",
              "    }\n",
              "\n",
              "    .dataframe tbody tr th {\n",
              "        vertical-align: top;\n",
              "    }\n",
              "\n",
              "    .dataframe thead th {\n",
              "        text-align: right;\n",
              "    }\n",
              "</style>\n",
              "<table border=\"1\" class=\"dataframe\">\n",
              "  <thead>\n",
              "    <tr style=\"text-align: right;\">\n",
              "      <th></th>\n",
              "      <th>대여시간</th>\n",
              "      <th>대여소번호</th>\n",
              "      <th>대여소명</th>\n",
              "      <th>대여구분코드</th>\n",
              "      <th>성별</th>\n",
              "      <th>연령대코드</th>\n",
              "      <th>이용건수</th>\n",
              "      <th>운동량</th>\n",
              "      <th>탄소량</th>\n",
              "      <th>이동거리</th>\n",
              "      <th>사용시간</th>\n",
              "      <th>서울시 확진자</th>\n",
              "      <th>서울시 추가 확진</th>\n",
              "      <th>날짜</th>\n",
              "    </tr>\n",
              "  </thead>\n",
              "  <tbody>\n",
              "    <tr>\n",
              "      <th>0</th>\n",
              "      <td>0</td>\n",
              "      <td>1288</td>\n",
              "      <td>1288. 문정중교 사거리</td>\n",
              "      <td>정기권</td>\n",
              "      <td>F</td>\n",
              "      <td>~10대</td>\n",
              "      <td>1</td>\n",
              "      <td>11.94</td>\n",
              "      <td>0.14</td>\n",
              "      <td>615.22</td>\n",
              "      <td>5.0</td>\n",
              "      <td>28332</td>\n",
              "      <td>92</td>\n",
              "      <td>2021-03-01</td>\n",
              "    </tr>\n",
              "    <tr>\n",
              "      <th>1</th>\n",
              "      <td>0</td>\n",
              "      <td>2719</td>\n",
              "      <td>2719.마곡문화공원</td>\n",
              "      <td>정기권</td>\n",
              "      <td>F</td>\n",
              "      <td>~10대</td>\n",
              "      <td>1</td>\n",
              "      <td>46.37</td>\n",
              "      <td>0.51</td>\n",
              "      <td>2209.40</td>\n",
              "      <td>17.0</td>\n",
              "      <td>28332</td>\n",
              "      <td>92</td>\n",
              "      <td>2021-03-01</td>\n",
              "    </tr>\n",
              "    <tr>\n",
              "      <th>2</th>\n",
              "      <td>0</td>\n",
              "      <td>549</td>\n",
              "      <td>549. 아차산역 3번출구</td>\n",
              "      <td>정기권</td>\n",
              "      <td>F</td>\n",
              "      <td>~10대</td>\n",
              "      <td>1</td>\n",
              "      <td>11.05</td>\n",
              "      <td>0.14</td>\n",
              "      <td>620.36</td>\n",
              "      <td>5.0</td>\n",
              "      <td>28332</td>\n",
              "      <td>92</td>\n",
              "      <td>2021-03-01</td>\n",
              "    </tr>\n",
              "    <tr>\n",
              "      <th>3</th>\n",
              "      <td>0</td>\n",
              "      <td>1149</td>\n",
              "      <td>1149. 신방화역환승주차장</td>\n",
              "      <td>정기권</td>\n",
              "      <td>F</td>\n",
              "      <td>~10대</td>\n",
              "      <td>1</td>\n",
              "      <td>38.9</td>\n",
              "      <td>0.44</td>\n",
              "      <td>1889.08</td>\n",
              "      <td>14.0</td>\n",
              "      <td>28332</td>\n",
              "      <td>92</td>\n",
              "      <td>2021-03-01</td>\n",
              "    </tr>\n",
              "    <tr>\n",
              "      <th>4</th>\n",
              "      <td>0</td>\n",
              "      <td>1663</td>\n",
              "      <td>1663. 동해문화예술관앞</td>\n",
              "      <td>정기권</td>\n",
              "      <td>F</td>\n",
              "      <td>20대</td>\n",
              "      <td>1</td>\n",
              "      <td>20.28</td>\n",
              "      <td>0.25</td>\n",
              "      <td>1066.91</td>\n",
              "      <td>21.0</td>\n",
              "      <td>28332</td>\n",
              "      <td>92</td>\n",
              "      <td>2021-03-01</td>\n",
              "    </tr>\n",
              "  </tbody>\n",
              "</table>\n",
              "</div>"
            ],
            "text/plain": [
              "   대여시간  대여소번호             대여소명 대여구분코드  ...  사용시간 서울시 확진자  서울시 추가 확진         날짜\n",
              "0     0   1288   1288. 문정중교 사거리    정기권  ...   5.0   28332         92 2021-03-01\n",
              "1     0   2719      2719.마곡문화공원    정기권  ...  17.0   28332         92 2021-03-01\n",
              "2     0    549   549. 아차산역 3번출구    정기권  ...   5.0   28332         92 2021-03-01\n",
              "3     0   1149  1149. 신방화역환승주차장    정기권  ...  14.0   28332         92 2021-03-01\n",
              "4     0   1663   1663. 동해문화예술관앞    정기권  ...  21.0   28332         92 2021-03-01\n",
              "\n",
              "[5 rows x 14 columns]"
            ]
          },
          "metadata": {},
          "execution_count": 24
        }
      ]
    },
    {
      "cell_type": "code",
      "source": [
        "df['요일'] = df['날짜'].dt.dayofweek"
      ],
      "metadata": {
        "id": "krMGOe83O007"
      },
      "execution_count": 25,
      "outputs": []
    },
    {
      "cell_type": "code",
      "source": [
        "df.head()"
      ],
      "metadata": {
        "colab": {
          "base_uri": "https://localhost:8080/",
          "height": 206
        },
        "id": "B1U_HaVAQQX1",
        "outputId": "e5f254a3-3790-4cb5-c6a3-ec1e4f6a83fe"
      },
      "execution_count": 26,
      "outputs": [
        {
          "output_type": "execute_result",
          "data": {
            "text/html": [
              "<div>\n",
              "<style scoped>\n",
              "    .dataframe tbody tr th:only-of-type {\n",
              "        vertical-align: middle;\n",
              "    }\n",
              "\n",
              "    .dataframe tbody tr th {\n",
              "        vertical-align: top;\n",
              "    }\n",
              "\n",
              "    .dataframe thead th {\n",
              "        text-align: right;\n",
              "    }\n",
              "</style>\n",
              "<table border=\"1\" class=\"dataframe\">\n",
              "  <thead>\n",
              "    <tr style=\"text-align: right;\">\n",
              "      <th></th>\n",
              "      <th>대여시간</th>\n",
              "      <th>대여소번호</th>\n",
              "      <th>대여소명</th>\n",
              "      <th>대여구분코드</th>\n",
              "      <th>성별</th>\n",
              "      <th>연령대코드</th>\n",
              "      <th>이용건수</th>\n",
              "      <th>운동량</th>\n",
              "      <th>탄소량</th>\n",
              "      <th>이동거리</th>\n",
              "      <th>사용시간</th>\n",
              "      <th>서울시 확진자</th>\n",
              "      <th>서울시 추가 확진</th>\n",
              "      <th>날짜</th>\n",
              "      <th>요일</th>\n",
              "    </tr>\n",
              "  </thead>\n",
              "  <tbody>\n",
              "    <tr>\n",
              "      <th>0</th>\n",
              "      <td>0</td>\n",
              "      <td>1288</td>\n",
              "      <td>1288. 문정중교 사거리</td>\n",
              "      <td>정기권</td>\n",
              "      <td>F</td>\n",
              "      <td>~10대</td>\n",
              "      <td>1</td>\n",
              "      <td>11.94</td>\n",
              "      <td>0.14</td>\n",
              "      <td>615.22</td>\n",
              "      <td>5.0</td>\n",
              "      <td>28332</td>\n",
              "      <td>92</td>\n",
              "      <td>2021-03-01</td>\n",
              "      <td>0</td>\n",
              "    </tr>\n",
              "    <tr>\n",
              "      <th>1</th>\n",
              "      <td>0</td>\n",
              "      <td>2719</td>\n",
              "      <td>2719.마곡문화공원</td>\n",
              "      <td>정기권</td>\n",
              "      <td>F</td>\n",
              "      <td>~10대</td>\n",
              "      <td>1</td>\n",
              "      <td>46.37</td>\n",
              "      <td>0.51</td>\n",
              "      <td>2209.40</td>\n",
              "      <td>17.0</td>\n",
              "      <td>28332</td>\n",
              "      <td>92</td>\n",
              "      <td>2021-03-01</td>\n",
              "      <td>0</td>\n",
              "    </tr>\n",
              "    <tr>\n",
              "      <th>2</th>\n",
              "      <td>0</td>\n",
              "      <td>549</td>\n",
              "      <td>549. 아차산역 3번출구</td>\n",
              "      <td>정기권</td>\n",
              "      <td>F</td>\n",
              "      <td>~10대</td>\n",
              "      <td>1</td>\n",
              "      <td>11.05</td>\n",
              "      <td>0.14</td>\n",
              "      <td>620.36</td>\n",
              "      <td>5.0</td>\n",
              "      <td>28332</td>\n",
              "      <td>92</td>\n",
              "      <td>2021-03-01</td>\n",
              "      <td>0</td>\n",
              "    </tr>\n",
              "    <tr>\n",
              "      <th>3</th>\n",
              "      <td>0</td>\n",
              "      <td>1149</td>\n",
              "      <td>1149. 신방화역환승주차장</td>\n",
              "      <td>정기권</td>\n",
              "      <td>F</td>\n",
              "      <td>~10대</td>\n",
              "      <td>1</td>\n",
              "      <td>38.9</td>\n",
              "      <td>0.44</td>\n",
              "      <td>1889.08</td>\n",
              "      <td>14.0</td>\n",
              "      <td>28332</td>\n",
              "      <td>92</td>\n",
              "      <td>2021-03-01</td>\n",
              "      <td>0</td>\n",
              "    </tr>\n",
              "    <tr>\n",
              "      <th>4</th>\n",
              "      <td>0</td>\n",
              "      <td>1663</td>\n",
              "      <td>1663. 동해문화예술관앞</td>\n",
              "      <td>정기권</td>\n",
              "      <td>F</td>\n",
              "      <td>20대</td>\n",
              "      <td>1</td>\n",
              "      <td>20.28</td>\n",
              "      <td>0.25</td>\n",
              "      <td>1066.91</td>\n",
              "      <td>21.0</td>\n",
              "      <td>28332</td>\n",
              "      <td>92</td>\n",
              "      <td>2021-03-01</td>\n",
              "      <td>0</td>\n",
              "    </tr>\n",
              "  </tbody>\n",
              "</table>\n",
              "</div>"
            ],
            "text/plain": [
              "   대여시간  대여소번호             대여소명 대여구분코드  ... 서울시 확진자 서울시 추가 확진         날짜 요일\n",
              "0     0   1288   1288. 문정중교 사거리    정기권  ...   28332        92 2021-03-01  0\n",
              "1     0   2719      2719.마곡문화공원    정기권  ...   28332        92 2021-03-01  0\n",
              "2     0    549   549. 아차산역 3번출구    정기권  ...   28332        92 2021-03-01  0\n",
              "3     0   1149  1149. 신방화역환승주차장    정기권  ...   28332        92 2021-03-01  0\n",
              "4     0   1663   1663. 동해문화예술관앞    정기권  ...   28332        92 2021-03-01  0\n",
              "\n",
              "[5 rows x 15 columns]"
            ]
          },
          "metadata": {},
          "execution_count": 26
        }
      ]
    },
    {
      "cell_type": "code",
      "source": [
        "df.shape"
      ],
      "metadata": {
        "colab": {
          "base_uri": "https://localhost:8080/"
        },
        "id": "s649nLpxQeWC",
        "outputId": "174a3a57-d375-4a9c-a5c3-65dd88332a1d"
      },
      "execution_count": 27,
      "outputs": [
        {
          "output_type": "execute_result",
          "data": {
            "text/plain": [
              "(1838590, 15)"
            ]
          },
          "metadata": {},
          "execution_count": 27
        }
      ]
    },
    {
      "cell_type": "code",
      "source": [
        "rental = pd.read_csv('/content/drive/MyDrive/Final_Project/공공자전거 대여소 정보(21.06월 기준).csv', encoding='cp949')\n",
        "rental.columns = ['대여소번호','보관소(대여소)명','소재지(자치구)','상세주소','위도','경도','설치시기','거치대수(LCD)','거치대수(QR)','운영방식']\n",
        "rental.drop(index=[0,1,2,3],inplace=True)\n",
        "rental = rental[['대여소번호','소재지(자치구)']]\n",
        "rental = rental.dropna()\n",
        "rental.head()"
      ],
      "metadata": {
        "colab": {
          "base_uri": "https://localhost:8080/",
          "height": 206
        },
        "id": "9_4EOmv_NZcE",
        "outputId": "ded3a02e-9d16-4725-dac5-de8ac9679065"
      },
      "execution_count": 28,
      "outputs": [
        {
          "output_type": "execute_result",
          "data": {
            "text/html": [
              "<div>\n",
              "<style scoped>\n",
              "    .dataframe tbody tr th:only-of-type {\n",
              "        vertical-align: middle;\n",
              "    }\n",
              "\n",
              "    .dataframe tbody tr th {\n",
              "        vertical-align: top;\n",
              "    }\n",
              "\n",
              "    .dataframe thead th {\n",
              "        text-align: right;\n",
              "    }\n",
              "</style>\n",
              "<table border=\"1\" class=\"dataframe\">\n",
              "  <thead>\n",
              "    <tr style=\"text-align: right;\">\n",
              "      <th></th>\n",
              "      <th>대여소번호</th>\n",
              "      <th>소재지(자치구)</th>\n",
              "    </tr>\n",
              "  </thead>\n",
              "  <tbody>\n",
              "    <tr>\n",
              "      <th>4</th>\n",
              "      <td>102.0</td>\n",
              "      <td>마포구</td>\n",
              "    </tr>\n",
              "    <tr>\n",
              "      <th>5</th>\n",
              "      <td>103.0</td>\n",
              "      <td>마포구</td>\n",
              "    </tr>\n",
              "    <tr>\n",
              "      <th>6</th>\n",
              "      <td>104.0</td>\n",
              "      <td>마포구</td>\n",
              "    </tr>\n",
              "    <tr>\n",
              "      <th>7</th>\n",
              "      <td>105.0</td>\n",
              "      <td>마포구</td>\n",
              "    </tr>\n",
              "    <tr>\n",
              "      <th>8</th>\n",
              "      <td>106.0</td>\n",
              "      <td>마포구</td>\n",
              "    </tr>\n",
              "  </tbody>\n",
              "</table>\n",
              "</div>"
            ],
            "text/plain": [
              "   대여소번호 소재지(자치구)\n",
              "4  102.0      마포구\n",
              "5  103.0      마포구\n",
              "6  104.0      마포구\n",
              "7  105.0      마포구\n",
              "8  106.0      마포구"
            ]
          },
          "metadata": {},
          "execution_count": 28
        }
      ]
    },
    {
      "cell_type": "code",
      "source": [
        "rental['대여소번호'] = rental['대여소번호'].astype(int)"
      ],
      "metadata": {
        "id": "-WIGw_74N2Oe"
      },
      "execution_count": 29,
      "outputs": []
    },
    {
      "cell_type": "code",
      "source": [
        "df = df.merge(rental, how='left',on=['대여소번호'])\n",
        "print(df.shape)\n",
        "df.head()"
      ],
      "metadata": {
        "colab": {
          "base_uri": "https://localhost:8080/",
          "height": 224
        },
        "id": "4JqWIC4YN_Ce",
        "outputId": "3567d4d0-d365-4635-e30d-46b1779e4f93"
      },
      "execution_count": 30,
      "outputs": [
        {
          "output_type": "stream",
          "name": "stdout",
          "text": [
            "(1838590, 16)\n"
          ]
        },
        {
          "output_type": "execute_result",
          "data": {
            "text/html": [
              "<div>\n",
              "<style scoped>\n",
              "    .dataframe tbody tr th:only-of-type {\n",
              "        vertical-align: middle;\n",
              "    }\n",
              "\n",
              "    .dataframe tbody tr th {\n",
              "        vertical-align: top;\n",
              "    }\n",
              "\n",
              "    .dataframe thead th {\n",
              "        text-align: right;\n",
              "    }\n",
              "</style>\n",
              "<table border=\"1\" class=\"dataframe\">\n",
              "  <thead>\n",
              "    <tr style=\"text-align: right;\">\n",
              "      <th></th>\n",
              "      <th>대여시간</th>\n",
              "      <th>대여소번호</th>\n",
              "      <th>대여소명</th>\n",
              "      <th>대여구분코드</th>\n",
              "      <th>성별</th>\n",
              "      <th>연령대코드</th>\n",
              "      <th>이용건수</th>\n",
              "      <th>운동량</th>\n",
              "      <th>탄소량</th>\n",
              "      <th>이동거리</th>\n",
              "      <th>사용시간</th>\n",
              "      <th>서울시 확진자</th>\n",
              "      <th>서울시 추가 확진</th>\n",
              "      <th>날짜</th>\n",
              "      <th>요일</th>\n",
              "      <th>소재지(자치구)</th>\n",
              "    </tr>\n",
              "  </thead>\n",
              "  <tbody>\n",
              "    <tr>\n",
              "      <th>0</th>\n",
              "      <td>0</td>\n",
              "      <td>1288</td>\n",
              "      <td>1288. 문정중교 사거리</td>\n",
              "      <td>정기권</td>\n",
              "      <td>F</td>\n",
              "      <td>~10대</td>\n",
              "      <td>1</td>\n",
              "      <td>11.94</td>\n",
              "      <td>0.14</td>\n",
              "      <td>615.22</td>\n",
              "      <td>5.0</td>\n",
              "      <td>28332</td>\n",
              "      <td>92</td>\n",
              "      <td>2021-03-01</td>\n",
              "      <td>0</td>\n",
              "      <td>송파구</td>\n",
              "    </tr>\n",
              "    <tr>\n",
              "      <th>1</th>\n",
              "      <td>0</td>\n",
              "      <td>2719</td>\n",
              "      <td>2719.마곡문화공원</td>\n",
              "      <td>정기권</td>\n",
              "      <td>F</td>\n",
              "      <td>~10대</td>\n",
              "      <td>1</td>\n",
              "      <td>46.37</td>\n",
              "      <td>0.51</td>\n",
              "      <td>2209.40</td>\n",
              "      <td>17.0</td>\n",
              "      <td>28332</td>\n",
              "      <td>92</td>\n",
              "      <td>2021-03-01</td>\n",
              "      <td>0</td>\n",
              "      <td>강서구</td>\n",
              "    </tr>\n",
              "    <tr>\n",
              "      <th>2</th>\n",
              "      <td>0</td>\n",
              "      <td>549</td>\n",
              "      <td>549. 아차산역 3번출구</td>\n",
              "      <td>정기권</td>\n",
              "      <td>F</td>\n",
              "      <td>~10대</td>\n",
              "      <td>1</td>\n",
              "      <td>11.05</td>\n",
              "      <td>0.14</td>\n",
              "      <td>620.36</td>\n",
              "      <td>5.0</td>\n",
              "      <td>28332</td>\n",
              "      <td>92</td>\n",
              "      <td>2021-03-01</td>\n",
              "      <td>0</td>\n",
              "      <td>광진구</td>\n",
              "    </tr>\n",
              "    <tr>\n",
              "      <th>3</th>\n",
              "      <td>0</td>\n",
              "      <td>1149</td>\n",
              "      <td>1149. 신방화역환승주차장</td>\n",
              "      <td>정기권</td>\n",
              "      <td>F</td>\n",
              "      <td>~10대</td>\n",
              "      <td>1</td>\n",
              "      <td>38.9</td>\n",
              "      <td>0.44</td>\n",
              "      <td>1889.08</td>\n",
              "      <td>14.0</td>\n",
              "      <td>28332</td>\n",
              "      <td>92</td>\n",
              "      <td>2021-03-01</td>\n",
              "      <td>0</td>\n",
              "      <td>강서구</td>\n",
              "    </tr>\n",
              "    <tr>\n",
              "      <th>4</th>\n",
              "      <td>0</td>\n",
              "      <td>1663</td>\n",
              "      <td>1663. 동해문화예술관앞</td>\n",
              "      <td>정기권</td>\n",
              "      <td>F</td>\n",
              "      <td>20대</td>\n",
              "      <td>1</td>\n",
              "      <td>20.28</td>\n",
              "      <td>0.25</td>\n",
              "      <td>1066.91</td>\n",
              "      <td>21.0</td>\n",
              "      <td>28332</td>\n",
              "      <td>92</td>\n",
              "      <td>2021-03-01</td>\n",
              "      <td>0</td>\n",
              "      <td>노원구</td>\n",
              "    </tr>\n",
              "  </tbody>\n",
              "</table>\n",
              "</div>"
            ],
            "text/plain": [
              "   대여시간  대여소번호             대여소명 대여구분코드  ... 서울시 추가 확진         날짜  요일 소재지(자치구)\n",
              "0     0   1288   1288. 문정중교 사거리    정기권  ...        92 2021-03-01   0      송파구\n",
              "1     0   2719      2719.마곡문화공원    정기권  ...        92 2021-03-01   0      강서구\n",
              "2     0    549   549. 아차산역 3번출구    정기권  ...        92 2021-03-01   0      광진구\n",
              "3     0   1149  1149. 신방화역환승주차장    정기권  ...        92 2021-03-01   0      강서구\n",
              "4     0   1663   1663. 동해문화예술관앞    정기권  ...        92 2021-03-01   0      노원구\n",
              "\n",
              "[5 rows x 16 columns]"
            ]
          },
          "metadata": {},
          "execution_count": 30
        }
      ]
    },
    {
      "cell_type": "code",
      "source": [
        "df.dropna(inplace=True)\n",
        "\n",
        "df.shape"
      ],
      "metadata": {
        "colab": {
          "base_uri": "https://localhost:8080/"
        },
        "id": "bmEoQOMDQsed",
        "outputId": "f9a34878-f81c-497b-98ef-b33c3f4f20c4"
      },
      "execution_count": 31,
      "outputs": [
        {
          "output_type": "execute_result",
          "data": {
            "text/plain": [
              "(1835605, 16)"
            ]
          },
          "metadata": {},
          "execution_count": 31
        }
      ]
    },
    {
      "cell_type": "code",
      "source": [
        "cols = ['날짜','요일','소재지(자치구)','대여시간','대여구분코드','서울시 추가 확진'] \n",
        "\n",
        "df_1 = df.groupby(cols)['이용건수'].sum().reset_index()\n",
        "df_1.head()"
      ],
      "metadata": {
        "colab": {
          "base_uri": "https://localhost:8080/",
          "height": 206
        },
        "id": "X3PbcdfwQxCn",
        "outputId": "5ae16638-aa31-4bde-d82c-aaefa4a5cea8"
      },
      "execution_count": 32,
      "outputs": [
        {
          "output_type": "execute_result",
          "data": {
            "text/html": [
              "<div>\n",
              "<style scoped>\n",
              "    .dataframe tbody tr th:only-of-type {\n",
              "        vertical-align: middle;\n",
              "    }\n",
              "\n",
              "    .dataframe tbody tr th {\n",
              "        vertical-align: top;\n",
              "    }\n",
              "\n",
              "    .dataframe thead th {\n",
              "        text-align: right;\n",
              "    }\n",
              "</style>\n",
              "<table border=\"1\" class=\"dataframe\">\n",
              "  <thead>\n",
              "    <tr style=\"text-align: right;\">\n",
              "      <th></th>\n",
              "      <th>날짜</th>\n",
              "      <th>요일</th>\n",
              "      <th>소재지(자치구)</th>\n",
              "      <th>대여시간</th>\n",
              "      <th>대여구분코드</th>\n",
              "      <th>서울시 추가 확진</th>\n",
              "      <th>이용건수</th>\n",
              "    </tr>\n",
              "  </thead>\n",
              "  <tbody>\n",
              "    <tr>\n",
              "      <th>0</th>\n",
              "      <td>2021-03-01</td>\n",
              "      <td>0</td>\n",
              "      <td>강남구</td>\n",
              "      <td>0</td>\n",
              "      <td>단체권</td>\n",
              "      <td>92</td>\n",
              "      <td>2</td>\n",
              "    </tr>\n",
              "    <tr>\n",
              "      <th>1</th>\n",
              "      <td>2021-03-01</td>\n",
              "      <td>0</td>\n",
              "      <td>강남구</td>\n",
              "      <td>0</td>\n",
              "      <td>정기권</td>\n",
              "      <td>92</td>\n",
              "      <td>8</td>\n",
              "    </tr>\n",
              "    <tr>\n",
              "      <th>2</th>\n",
              "      <td>2021-03-01</td>\n",
              "      <td>0</td>\n",
              "      <td>강남구</td>\n",
              "      <td>1</td>\n",
              "      <td>일일권</td>\n",
              "      <td>92</td>\n",
              "      <td>4</td>\n",
              "    </tr>\n",
              "    <tr>\n",
              "      <th>3</th>\n",
              "      <td>2021-03-01</td>\n",
              "      <td>0</td>\n",
              "      <td>강남구</td>\n",
              "      <td>1</td>\n",
              "      <td>정기권</td>\n",
              "      <td>92</td>\n",
              "      <td>10</td>\n",
              "    </tr>\n",
              "    <tr>\n",
              "      <th>4</th>\n",
              "      <td>2021-03-01</td>\n",
              "      <td>0</td>\n",
              "      <td>강남구</td>\n",
              "      <td>2</td>\n",
              "      <td>일일권</td>\n",
              "      <td>92</td>\n",
              "      <td>1</td>\n",
              "    </tr>\n",
              "  </tbody>\n",
              "</table>\n",
              "</div>"
            ],
            "text/plain": [
              "          날짜  요일 소재지(자치구)  대여시간 대여구분코드  서울시 추가 확진  이용건수\n",
              "0 2021-03-01   0      강남구     0    단체권         92     2\n",
              "1 2021-03-01   0      강남구     0    정기권         92     8\n",
              "2 2021-03-01   0      강남구     1    일일권         92     4\n",
              "3 2021-03-01   0      강남구     1    정기권         92    10\n",
              "4 2021-03-01   0      강남구     2    일일권         92     1"
            ]
          },
          "metadata": {},
          "execution_count": 32
        }
      ]
    },
    {
      "cell_type": "code",
      "source": [
        "df_1['대여구분코드'].value_counts()"
      ],
      "metadata": {
        "colab": {
          "base_uri": "https://localhost:8080/"
        },
        "id": "JL3sZnWKQyJl",
        "outputId": "93defb83-8cea-49ff-e73f-920d782caabe"
      },
      "execution_count": 33,
      "outputs": [
        {
          "output_type": "execute_result",
          "data": {
            "text/plain": [
              "정기권    26228\n",
              "일일권    23147\n",
              "단체권     5287\n",
              "Name: 대여구분코드, dtype: int64"
            ]
          },
          "metadata": {},
          "execution_count": 33
        }
      ]
    },
    {
      "cell_type": "code",
      "source": [
        "df_onehot = pd.get_dummies(data = df_1, columns = ['대여구분코드','요일','소재지(자치구)'], prefix = ['대여구분코드','요일','소재지(자치구)'])\n",
        "df_onehot.head()"
      ],
      "metadata": {
        "colab": {
          "base_uri": "https://localhost:8080/",
          "height": 448
        },
        "id": "KoNupDSuRFMz",
        "outputId": "1d6058aa-b084-49f4-a4b7-92ec5a426a38"
      },
      "execution_count": 34,
      "outputs": [
        {
          "output_type": "execute_result",
          "data": {
            "text/html": [
              "<div>\n",
              "<style scoped>\n",
              "    .dataframe tbody tr th:only-of-type {\n",
              "        vertical-align: middle;\n",
              "    }\n",
              "\n",
              "    .dataframe tbody tr th {\n",
              "        vertical-align: top;\n",
              "    }\n",
              "\n",
              "    .dataframe thead th {\n",
              "        text-align: right;\n",
              "    }\n",
              "</style>\n",
              "<table border=\"1\" class=\"dataframe\">\n",
              "  <thead>\n",
              "    <tr style=\"text-align: right;\">\n",
              "      <th></th>\n",
              "      <th>날짜</th>\n",
              "      <th>대여시간</th>\n",
              "      <th>서울시 추가 확진</th>\n",
              "      <th>이용건수</th>\n",
              "      <th>대여구분코드_단체권</th>\n",
              "      <th>대여구분코드_일일권</th>\n",
              "      <th>대여구분코드_정기권</th>\n",
              "      <th>요일_0</th>\n",
              "      <th>요일_1</th>\n",
              "      <th>요일_2</th>\n",
              "      <th>요일_3</th>\n",
              "      <th>요일_4</th>\n",
              "      <th>요일_5</th>\n",
              "      <th>요일_6</th>\n",
              "      <th>소재지(자치구)_강남구</th>\n",
              "      <th>소재지(자치구)_강동구</th>\n",
              "      <th>소재지(자치구)_강북구</th>\n",
              "      <th>소재지(자치구)_강서구</th>\n",
              "      <th>소재지(자치구)_관악구</th>\n",
              "      <th>소재지(자치구)_광진구</th>\n",
              "      <th>소재지(자치구)_구로구</th>\n",
              "      <th>소재지(자치구)_금천구</th>\n",
              "      <th>소재지(자치구)_노원구</th>\n",
              "      <th>소재지(자치구)_도봉구</th>\n",
              "      <th>소재지(자치구)_동대문구</th>\n",
              "      <th>소재지(자치구)_동작구</th>\n",
              "      <th>소재지(자치구)_마포구</th>\n",
              "      <th>소재지(자치구)_서대문구</th>\n",
              "      <th>소재지(자치구)_서초구</th>\n",
              "      <th>소재지(자치구)_성동구</th>\n",
              "      <th>소재지(자치구)_성북구</th>\n",
              "      <th>소재지(자치구)_송파구</th>\n",
              "      <th>소재지(자치구)_양천구</th>\n",
              "      <th>소재지(자치구)_영등포구</th>\n",
              "      <th>소재지(자치구)_용산구</th>\n",
              "      <th>소재지(자치구)_은평구</th>\n",
              "      <th>소재지(자치구)_종로구</th>\n",
              "      <th>소재지(자치구)_중구</th>\n",
              "      <th>소재지(자치구)_중랑구</th>\n",
              "    </tr>\n",
              "  </thead>\n",
              "  <tbody>\n",
              "    <tr>\n",
              "      <th>0</th>\n",
              "      <td>2021-03-01</td>\n",
              "      <td>0</td>\n",
              "      <td>92</td>\n",
              "      <td>2</td>\n",
              "      <td>1</td>\n",
              "      <td>0</td>\n",
              "      <td>0</td>\n",
              "      <td>1</td>\n",
              "      <td>0</td>\n",
              "      <td>0</td>\n",
              "      <td>0</td>\n",
              "      <td>0</td>\n",
              "      <td>0</td>\n",
              "      <td>0</td>\n",
              "      <td>1</td>\n",
              "      <td>0</td>\n",
              "      <td>0</td>\n",
              "      <td>0</td>\n",
              "      <td>0</td>\n",
              "      <td>0</td>\n",
              "      <td>0</td>\n",
              "      <td>0</td>\n",
              "      <td>0</td>\n",
              "      <td>0</td>\n",
              "      <td>0</td>\n",
              "      <td>0</td>\n",
              "      <td>0</td>\n",
              "      <td>0</td>\n",
              "      <td>0</td>\n",
              "      <td>0</td>\n",
              "      <td>0</td>\n",
              "      <td>0</td>\n",
              "      <td>0</td>\n",
              "      <td>0</td>\n",
              "      <td>0</td>\n",
              "      <td>0</td>\n",
              "      <td>0</td>\n",
              "      <td>0</td>\n",
              "      <td>0</td>\n",
              "    </tr>\n",
              "    <tr>\n",
              "      <th>1</th>\n",
              "      <td>2021-03-01</td>\n",
              "      <td>0</td>\n",
              "      <td>92</td>\n",
              "      <td>8</td>\n",
              "      <td>0</td>\n",
              "      <td>0</td>\n",
              "      <td>1</td>\n",
              "      <td>1</td>\n",
              "      <td>0</td>\n",
              "      <td>0</td>\n",
              "      <td>0</td>\n",
              "      <td>0</td>\n",
              "      <td>0</td>\n",
              "      <td>0</td>\n",
              "      <td>1</td>\n",
              "      <td>0</td>\n",
              "      <td>0</td>\n",
              "      <td>0</td>\n",
              "      <td>0</td>\n",
              "      <td>0</td>\n",
              "      <td>0</td>\n",
              "      <td>0</td>\n",
              "      <td>0</td>\n",
              "      <td>0</td>\n",
              "      <td>0</td>\n",
              "      <td>0</td>\n",
              "      <td>0</td>\n",
              "      <td>0</td>\n",
              "      <td>0</td>\n",
              "      <td>0</td>\n",
              "      <td>0</td>\n",
              "      <td>0</td>\n",
              "      <td>0</td>\n",
              "      <td>0</td>\n",
              "      <td>0</td>\n",
              "      <td>0</td>\n",
              "      <td>0</td>\n",
              "      <td>0</td>\n",
              "      <td>0</td>\n",
              "    </tr>\n",
              "    <tr>\n",
              "      <th>2</th>\n",
              "      <td>2021-03-01</td>\n",
              "      <td>1</td>\n",
              "      <td>92</td>\n",
              "      <td>4</td>\n",
              "      <td>0</td>\n",
              "      <td>1</td>\n",
              "      <td>0</td>\n",
              "      <td>1</td>\n",
              "      <td>0</td>\n",
              "      <td>0</td>\n",
              "      <td>0</td>\n",
              "      <td>0</td>\n",
              "      <td>0</td>\n",
              "      <td>0</td>\n",
              "      <td>1</td>\n",
              "      <td>0</td>\n",
              "      <td>0</td>\n",
              "      <td>0</td>\n",
              "      <td>0</td>\n",
              "      <td>0</td>\n",
              "      <td>0</td>\n",
              "      <td>0</td>\n",
              "      <td>0</td>\n",
              "      <td>0</td>\n",
              "      <td>0</td>\n",
              "      <td>0</td>\n",
              "      <td>0</td>\n",
              "      <td>0</td>\n",
              "      <td>0</td>\n",
              "      <td>0</td>\n",
              "      <td>0</td>\n",
              "      <td>0</td>\n",
              "      <td>0</td>\n",
              "      <td>0</td>\n",
              "      <td>0</td>\n",
              "      <td>0</td>\n",
              "      <td>0</td>\n",
              "      <td>0</td>\n",
              "      <td>0</td>\n",
              "    </tr>\n",
              "    <tr>\n",
              "      <th>3</th>\n",
              "      <td>2021-03-01</td>\n",
              "      <td>1</td>\n",
              "      <td>92</td>\n",
              "      <td>10</td>\n",
              "      <td>0</td>\n",
              "      <td>0</td>\n",
              "      <td>1</td>\n",
              "      <td>1</td>\n",
              "      <td>0</td>\n",
              "      <td>0</td>\n",
              "      <td>0</td>\n",
              "      <td>0</td>\n",
              "      <td>0</td>\n",
              "      <td>0</td>\n",
              "      <td>1</td>\n",
              "      <td>0</td>\n",
              "      <td>0</td>\n",
              "      <td>0</td>\n",
              "      <td>0</td>\n",
              "      <td>0</td>\n",
              "      <td>0</td>\n",
              "      <td>0</td>\n",
              "      <td>0</td>\n",
              "      <td>0</td>\n",
              "      <td>0</td>\n",
              "      <td>0</td>\n",
              "      <td>0</td>\n",
              "      <td>0</td>\n",
              "      <td>0</td>\n",
              "      <td>0</td>\n",
              "      <td>0</td>\n",
              "      <td>0</td>\n",
              "      <td>0</td>\n",
              "      <td>0</td>\n",
              "      <td>0</td>\n",
              "      <td>0</td>\n",
              "      <td>0</td>\n",
              "      <td>0</td>\n",
              "      <td>0</td>\n",
              "    </tr>\n",
              "    <tr>\n",
              "      <th>4</th>\n",
              "      <td>2021-03-01</td>\n",
              "      <td>2</td>\n",
              "      <td>92</td>\n",
              "      <td>1</td>\n",
              "      <td>0</td>\n",
              "      <td>1</td>\n",
              "      <td>0</td>\n",
              "      <td>1</td>\n",
              "      <td>0</td>\n",
              "      <td>0</td>\n",
              "      <td>0</td>\n",
              "      <td>0</td>\n",
              "      <td>0</td>\n",
              "      <td>0</td>\n",
              "      <td>1</td>\n",
              "      <td>0</td>\n",
              "      <td>0</td>\n",
              "      <td>0</td>\n",
              "      <td>0</td>\n",
              "      <td>0</td>\n",
              "      <td>0</td>\n",
              "      <td>0</td>\n",
              "      <td>0</td>\n",
              "      <td>0</td>\n",
              "      <td>0</td>\n",
              "      <td>0</td>\n",
              "      <td>0</td>\n",
              "      <td>0</td>\n",
              "      <td>0</td>\n",
              "      <td>0</td>\n",
              "      <td>0</td>\n",
              "      <td>0</td>\n",
              "      <td>0</td>\n",
              "      <td>0</td>\n",
              "      <td>0</td>\n",
              "      <td>0</td>\n",
              "      <td>0</td>\n",
              "      <td>0</td>\n",
              "      <td>0</td>\n",
              "    </tr>\n",
              "  </tbody>\n",
              "</table>\n",
              "</div>"
            ],
            "text/plain": [
              "          날짜  대여시간  서울시 추가 확진  ...  소재지(자치구)_종로구  소재지(자치구)_중구  소재지(자치구)_중랑구\n",
              "0 2021-03-01     0         92  ...             0            0             0\n",
              "1 2021-03-01     0         92  ...             0            0             0\n",
              "2 2021-03-01     1         92  ...             0            0             0\n",
              "3 2021-03-01     1         92  ...             0            0             0\n",
              "4 2021-03-01     2         92  ...             0            0             0\n",
              "\n",
              "[5 rows x 39 columns]"
            ]
          },
          "metadata": {},
          "execution_count": 34
        }
      ]
    },
    {
      "cell_type": "code",
      "source": [
        "df_1.head()"
      ],
      "metadata": {
        "colab": {
          "base_uri": "https://localhost:8080/",
          "height": 206
        },
        "id": "ykyqREqrRHFh",
        "outputId": "a099d196-d4c8-4e81-e9bf-fd4573ed73ba"
      },
      "execution_count": 35,
      "outputs": [
        {
          "output_type": "execute_result",
          "data": {
            "text/html": [
              "<div>\n",
              "<style scoped>\n",
              "    .dataframe tbody tr th:only-of-type {\n",
              "        vertical-align: middle;\n",
              "    }\n",
              "\n",
              "    .dataframe tbody tr th {\n",
              "        vertical-align: top;\n",
              "    }\n",
              "\n",
              "    .dataframe thead th {\n",
              "        text-align: right;\n",
              "    }\n",
              "</style>\n",
              "<table border=\"1\" class=\"dataframe\">\n",
              "  <thead>\n",
              "    <tr style=\"text-align: right;\">\n",
              "      <th></th>\n",
              "      <th>날짜</th>\n",
              "      <th>요일</th>\n",
              "      <th>소재지(자치구)</th>\n",
              "      <th>대여시간</th>\n",
              "      <th>대여구분코드</th>\n",
              "      <th>서울시 추가 확진</th>\n",
              "      <th>이용건수</th>\n",
              "    </tr>\n",
              "  </thead>\n",
              "  <tbody>\n",
              "    <tr>\n",
              "      <th>0</th>\n",
              "      <td>2021-03-01</td>\n",
              "      <td>0</td>\n",
              "      <td>강남구</td>\n",
              "      <td>0</td>\n",
              "      <td>단체권</td>\n",
              "      <td>92</td>\n",
              "      <td>2</td>\n",
              "    </tr>\n",
              "    <tr>\n",
              "      <th>1</th>\n",
              "      <td>2021-03-01</td>\n",
              "      <td>0</td>\n",
              "      <td>강남구</td>\n",
              "      <td>0</td>\n",
              "      <td>정기권</td>\n",
              "      <td>92</td>\n",
              "      <td>8</td>\n",
              "    </tr>\n",
              "    <tr>\n",
              "      <th>2</th>\n",
              "      <td>2021-03-01</td>\n",
              "      <td>0</td>\n",
              "      <td>강남구</td>\n",
              "      <td>1</td>\n",
              "      <td>일일권</td>\n",
              "      <td>92</td>\n",
              "      <td>4</td>\n",
              "    </tr>\n",
              "    <tr>\n",
              "      <th>3</th>\n",
              "      <td>2021-03-01</td>\n",
              "      <td>0</td>\n",
              "      <td>강남구</td>\n",
              "      <td>1</td>\n",
              "      <td>정기권</td>\n",
              "      <td>92</td>\n",
              "      <td>10</td>\n",
              "    </tr>\n",
              "    <tr>\n",
              "      <th>4</th>\n",
              "      <td>2021-03-01</td>\n",
              "      <td>0</td>\n",
              "      <td>강남구</td>\n",
              "      <td>2</td>\n",
              "      <td>일일권</td>\n",
              "      <td>92</td>\n",
              "      <td>1</td>\n",
              "    </tr>\n",
              "  </tbody>\n",
              "</table>\n",
              "</div>"
            ],
            "text/plain": [
              "          날짜  요일 소재지(자치구)  대여시간 대여구분코드  서울시 추가 확진  이용건수\n",
              "0 2021-03-01   0      강남구     0    단체권         92     2\n",
              "1 2021-03-01   0      강남구     0    정기권         92     8\n",
              "2 2021-03-01   0      강남구     1    일일권         92     4\n",
              "3 2021-03-01   0      강남구     1    정기권         92    10\n",
              "4 2021-03-01   0      강남구     2    일일권         92     1"
            ]
          },
          "metadata": {},
          "execution_count": 35
        }
      ]
    },
    {
      "cell_type": "code",
      "source": [
        "import seaborn as sns\n",
        "\n",
        "sns.set_color_codes('pastel')\n",
        "\n",
        "sns.barplot(\n",
        "    data= df_1,\n",
        "    x= \"소재지(자치구)\",\n",
        "    y= \"이용건수\", \n",
        "    color='b'\n",
        ")\n",
        "\n",
        "plt.xticks(rotation = 45 )\n",
        "plt.rcParams['font.family'] = 'NanumGothic'\n",
        "plt.show()"
      ],
      "metadata": {
        "colab": {
          "base_uri": "https://localhost:8080/",
          "height": 302
        },
        "id": "MBSrHi0FRK57",
        "outputId": "04f7bcdd-47fa-4c4c-c23a-21588342c393"
      },
      "execution_count": 36,
      "outputs": [
        {
          "output_type": "display_data",
          "data": {
            "image/png": "[encoded data removed]",
            "text/plain": [
              "<Figure size 432x288 with 1 Axes>"
            ]
          },
          "metadata": {
            "image/png": {
              "width": 389,
              "height": 286
            },
            "needs_background": "light"
          }
        }
      ]
    },
    {
      "cell_type": "code",
      "source": [
        "g = df['소재지(자치구)'].value_counts().sort_values(ascending=False)\n",
        "g.plot.bar()"
      ],
      "metadata": {
        "colab": {
          "base_uri": "https://localhost:8080/",
          "height": 312
        },
        "id": "9WO5R5WKRj0I",
        "outputId": "76e36e5c-f0a2-485f-f3fc-3ff0dfe8a4e2"
      },
      "execution_count": 37,
      "outputs": [
        {
          "output_type": "execute_result",
          "data": {
            "text/plain": [
              "<matplotlib.axes._subplots.AxesSubplot at 0x7f3f733e7090>"
            ]
          },
          "metadata": {},
          "execution_count": 37
        },
        {
          "output_type": "display_data",
          "data": {
            "image/png": "[encoded data removed]",
            "text/plain": [
              "<Figure size 432x288 with 1 Axes>"
            ]
          },
          "metadata": {
            "image/png": {
              "width": 392,
              "height": 276
            },
            "needs_background": "light"
          }
        }
      ]
    },
    {
      "cell_type": "code",
      "source": [
        "real = ['강서구','영등포구','송파구']\n",
        "df_real = df_1[df_1['소재지(자치구)'].isin(real)]\n",
        "df_real.shape"
      ],
      "metadata": {
        "colab": {
          "base_uri": "https://localhost:8080/"
        },
        "id": "fGh0XKxyRPZ9",
        "outputId": "48b83ee4-d974-4bca-a809-f2da7d1db1dd"
      },
      "execution_count": 38,
      "outputs": [
        {
          "output_type": "execute_result",
          "data": {
            "text/plain": [
              "(7075, 7)"
            ]
          },
          "metadata": {},
          "execution_count": 38
        }
      ]
    },
    {
      "cell_type": "code",
      "source": [
        "df_real_onehot = pd.get_dummies(data = df_real, columns = ['대여구분코드','요일','소재지(자치구)'], prefix = ['대여구분코드','요일','소재지(자치구)'])\n",
        "print(df_real_onehot.shape)\n",
        "df_real_onehot.head()"
      ],
      "metadata": {
        "colab": {
          "base_uri": "https://localhost:8080/",
          "height": 328
        },
        "id": "X5pKk_mCRdzK",
        "outputId": "9c3343d4-01fd-437d-af08-c91936cd1a4c"
      },
      "execution_count": 39,
      "outputs": [
        {
          "output_type": "stream",
          "name": "stdout",
          "text": [
            "(7075, 17)\n"
          ]
        },
        {
          "output_type": "execute_result",
          "data": {
            "text/html": [
              "<div>\n",
              "<style scoped>\n",
              "    .dataframe tbody tr th:only-of-type {\n",
              "        vertical-align: middle;\n",
              "    }\n",
              "\n",
              "    .dataframe tbody tr th {\n",
              "        vertical-align: top;\n",
              "    }\n",
              "\n",
              "    .dataframe thead th {\n",
              "        text-align: right;\n",
              "    }\n",
              "</style>\n",
              "<table border=\"1\" class=\"dataframe\">\n",
              "  <thead>\n",
              "    <tr style=\"text-align: right;\">\n",
              "      <th></th>\n",
              "      <th>날짜</th>\n",
              "      <th>대여시간</th>\n",
              "      <th>서울시 추가 확진</th>\n",
              "      <th>이용건수</th>\n",
              "      <th>대여구분코드_단체권</th>\n",
              "      <th>대여구분코드_일일권</th>\n",
              "      <th>대여구분코드_정기권</th>\n",
              "      <th>요일_0</th>\n",
              "      <th>요일_1</th>\n",
              "      <th>요일_2</th>\n",
              "      <th>요일_3</th>\n",
              "      <th>요일_4</th>\n",
              "      <th>요일_5</th>\n",
              "      <th>요일_6</th>\n",
              "      <th>소재지(자치구)_강서구</th>\n",
              "      <th>소재지(자치구)_송파구</th>\n",
              "      <th>소재지(자치구)_영등포구</th>\n",
              "    </tr>\n",
              "  </thead>\n",
              "  <tbody>\n",
              "    <tr>\n",
              "      <th>45</th>\n",
              "      <td>2021-03-01</td>\n",
              "      <td>0</td>\n",
              "      <td>92</td>\n",
              "      <td>13</td>\n",
              "      <td>0</td>\n",
              "      <td>1</td>\n",
              "      <td>0</td>\n",
              "      <td>1</td>\n",
              "      <td>0</td>\n",
              "      <td>0</td>\n",
              "      <td>0</td>\n",
              "      <td>0</td>\n",
              "      <td>0</td>\n",
              "      <td>0</td>\n",
              "      <td>1</td>\n",
              "      <td>0</td>\n",
              "      <td>0</td>\n",
              "    </tr>\n",
              "    <tr>\n",
              "      <th>46</th>\n",
              "      <td>2021-03-01</td>\n",
              "      <td>0</td>\n",
              "      <td>92</td>\n",
              "      <td>40</td>\n",
              "      <td>0</td>\n",
              "      <td>0</td>\n",
              "      <td>1</td>\n",
              "      <td>1</td>\n",
              "      <td>0</td>\n",
              "      <td>0</td>\n",
              "      <td>0</td>\n",
              "      <td>0</td>\n",
              "      <td>0</td>\n",
              "      <td>0</td>\n",
              "      <td>1</td>\n",
              "      <td>0</td>\n",
              "      <td>0</td>\n",
              "    </tr>\n",
              "    <tr>\n",
              "      <th>47</th>\n",
              "      <td>2021-03-01</td>\n",
              "      <td>1</td>\n",
              "      <td>92</td>\n",
              "      <td>4</td>\n",
              "      <td>1</td>\n",
              "      <td>0</td>\n",
              "      <td>0</td>\n",
              "      <td>1</td>\n",
              "      <td>0</td>\n",
              "      <td>0</td>\n",
              "      <td>0</td>\n",
              "      <td>0</td>\n",
              "      <td>0</td>\n",
              "      <td>0</td>\n",
              "      <td>1</td>\n",
              "      <td>0</td>\n",
              "      <td>0</td>\n",
              "    </tr>\n",
              "    <tr>\n",
              "      <th>48</th>\n",
              "      <td>2021-03-01</td>\n",
              "      <td>1</td>\n",
              "      <td>92</td>\n",
              "      <td>9</td>\n",
              "      <td>0</td>\n",
              "      <td>1</td>\n",
              "      <td>0</td>\n",
              "      <td>1</td>\n",
              "      <td>0</td>\n",
              "      <td>0</td>\n",
              "      <td>0</td>\n",
              "      <td>0</td>\n",
              "      <td>0</td>\n",
              "      <td>0</td>\n",
              "      <td>1</td>\n",
              "      <td>0</td>\n",
              "      <td>0</td>\n",
              "    </tr>\n",
              "    <tr>\n",
              "      <th>49</th>\n",
              "      <td>2021-03-01</td>\n",
              "      <td>1</td>\n",
              "      <td>92</td>\n",
              "      <td>14</td>\n",
              "      <td>0</td>\n",
              "      <td>0</td>\n",
              "      <td>1</td>\n",
              "      <td>1</td>\n",
              "      <td>0</td>\n",
              "      <td>0</td>\n",
              "      <td>0</td>\n",
              "      <td>0</td>\n",
              "      <td>0</td>\n",
              "      <td>0</td>\n",
              "      <td>1</td>\n",
              "      <td>0</td>\n",
              "      <td>0</td>\n",
              "    </tr>\n",
              "  </tbody>\n",
              "</table>\n",
              "</div>"
            ],
            "text/plain": [
              "           날짜  대여시간  서울시 추가 확진  ...  소재지(자치구)_강서구  소재지(자치구)_송파구  소재지(자치구)_영등포구\n",
              "45 2021-03-01     0         92  ...             1             0              0\n",
              "46 2021-03-01     0         92  ...             1             0              0\n",
              "47 2021-03-01     1         92  ...             1             0              0\n",
              "48 2021-03-01     1         92  ...             1             0              0\n",
              "49 2021-03-01     1         92  ...             1             0              0\n",
              "\n",
              "[5 rows x 17 columns]"
            ]
          },
          "metadata": {},
          "execution_count": 39
        }
      ]
    },
    {
      "cell_type": "code",
      "source": [
        "from sklearn.model_selection import train_test_split\n",
        "from sklearn.metrics import mean_absolute_error\n",
        "from sklearn.linear_model import LinearRegression\n",
        "\n",
        "\n",
        "train, test = train_test_split(df_real_onehot, test_size=0.2, random_state=2)\n",
        "train.shape,test.shape"
      ],
      "metadata": {
        "colab": {
          "base_uri": "https://localhost:8080/"
        },
        "id": "50P3JLPJRxMk",
        "outputId": "c183f8eb-2bda-48fc-88c3-293df238e271"
      },
      "execution_count": 40,
      "outputs": [
        {
          "output_type": "execute_result",
          "data": {
            "text/plain": [
              "((5660, 17), (1415, 17))"
            ]
          },
          "metadata": {},
          "execution_count": 40
        }
      ]
    },
    {
      "cell_type": "code",
      "source": [
        "train, val = train_test_split(train, train_size=0.80, test_size=0.20, random_state=2)\n",
        "train.shape, val.shape,test.shape"
      ],
      "metadata": {
        "colab": {
          "base_uri": "https://localhost:8080/"
        },
        "id": "tCjbQJAZR1Fd",
        "outputId": "19ebd84c-4a83-4113-9db4-6196e924662c"
      },
      "execution_count": 41,
      "outputs": [
        {
          "output_type": "execute_result",
          "data": {
            "text/plain": [
              "((4528, 17), (1132, 17), (1415, 17))"
            ]
          },
          "metadata": {},
          "execution_count": 41
        }
      ]
    },
    {
      "cell_type": "code",
      "source": [
        "target = '이용건수'\n",
        "features = df_real_onehot.drop(columns=[target,'날짜']).columns\n",
        "\n",
        "X_train = train[features]\n",
        "y_train = train[target]\n",
        "X_val = val[features]\n",
        "y_val = val[target]\n",
        "X_test = test[features]\n",
        "y_test = test[target]"
      ],
      "metadata": {
        "id": "gkIoHaINR6Rz"
      },
      "execution_count": 48,
      "outputs": []
    },
    {
      "cell_type": "code",
      "source": [
        "baseline = df_1['이용건수'].mean()\n",
        "y_base = [baseline] * len(y_train)\n",
        "\n",
        "mae = mean_absolute_error(y_train, y_base)\n",
        "print(f' MAE : {mae:.2f}')"
      ],
      "metadata": {
        "colab": {
          "base_uri": "https://localhost:8080/"
        },
        "id": "7P8DNIF9R_Xr",
        "outputId": "9bf122e6-d684-4de3-c6d5-aa1eee9f3069"
      },
      "execution_count": 49,
      "outputs": [
        {
          "output_type": "stream",
          "name": "stdout",
          "text": [
            " MAE : 61.80\n"
          ]
        }
      ]
    },
    {
      "cell_type": "code",
      "source": [
        "lr = LinearRegression()\n",
        "lr.fit(X_train, y_train)\n",
        "\n",
        "y_pred_train = lr.predict(X_train)\n",
        "mae = mean_absolute_error(y_train, y_pred_train)\n",
        "\n",
        "y_pred_val = lr.predict(X_val)\n",
        "mae = mean_absolute_error(y_val, y_pred_val)\n",
        "\n",
        "print(\"train acc: \",lr.score(X_train,y_train))\n",
        "print(\"test acc: \",lr.score(X_val,y_val))"
      ],
      "metadata": {
        "colab": {
          "base_uri": "https://localhost:8080/"
        },
        "id": "AaY1f3RWSd_2",
        "outputId": "d0441efa-416b-46e6-c3bf-703e35202e8e"
      },
      "execution_count": 50,
      "outputs": [
        {
          "output_type": "stream",
          "name": "stdout",
          "text": [
            "train acc:  0.37136681015164164\n",
            "test acc:  0.3835782811673959\n"
          ]
        }
      ]
    },
    {
      "cell_type": "code",
      "source": [
        ""
      ],
      "metadata": {
        "id": "B3UPwhDAS2Md"
      },
      "execution_count": null,
      "outputs": []
    }
  ]
}